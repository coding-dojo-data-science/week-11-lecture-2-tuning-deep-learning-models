{
 "cells": [
  {
   "cell_type": "markdown",
   "metadata": {
    "id": "AGKAZlCh02cl"
   },
   "source": [
    "# Tuning Neural Networking in Keras\n",
    "\n",
    "<a href=\"https://colab.research.google.com/github/coding-dojo-data-science/week-11-lecture-2-tuning-deep-learning-models/blob/main/SOLUTIONS%20Code-along%20Tuning%20Neural%20Networks.ipynb\" target=\"_parent\"><img src=\"https://colab.research.google.com/assets/colab-badge.svg\" alt=\"Open In Colab\"/></a>"
   ]
  },
  {
   "cell_type": "markdown",
   "metadata": {
    "id": "OStduN-207_9"
   },
   "source": [
    "We will use the version of Keras that comes in the Tensorflow package, as it has the most up to date tools.\n",
    "\n",
    "Keras works as weapper for deep learning model to be used as classification or regression estimators in sklearn"
   ]
  },
  {
   "cell_type": "code",
   "execution_count": 34,
   "metadata": {
    "ExecuteTime": {
     "end_time": "2023-01-31T20:04:18.263813Z",
     "start_time": "2023-01-31T20:04:18.169067Z"
    },
    "executionInfo": {
     "elapsed": 2,
     "status": "ok",
     "timestamp": 1669945676698,
     "user": {
      "displayName": "Josh Johnson",
      "userId": "08606005069848925988"
     },
     "user_tz": 480
    },
    "id": "Zw6CH1mp0zR4"
   },
   "outputs": [],
   "source": [
    "import pandas as pd\n",
    "import numpy as np\n",
    "\n",
    "import matplotlib.pyplot as plt\n",
    "from seaborn import heatmap\n",
    "\n",
    "from sklearn.metrics import mean_squared_error, mean_absolute_error, r2_score, \\\n",
    "classification_report, ConfusionMatrixDisplay\n",
    "from sklearn.preprocessing import MinMaxScaler\n",
    "from sklearn.model_selection import train_test_split\n",
    "\n",
    "# new libraries\n",
    "import tensorflow as tf\n",
    "import tensorflow.keras as keras\n",
    "from keras.models import Sequential\n",
    "from keras.layers import Dense, Dropout\n",
    "\n",
    "# Set random seeds for consistent outcomes\n",
    "keras.backend.clear_session()\n",
    "np.random.seed(42)\n",
    "tf.random.set_seed(42)"
   ]
  },
  {
   "cell_type": "markdown",
   "metadata": {},
   "source": [
    "## Useful Functions"
   ]
  },
  {
   "cell_type": "code",
   "execution_count": 35,
   "metadata": {
    "ExecuteTime": {
     "end_time": "2023-01-31T20:04:18.279770Z",
     "start_time": "2023-01-31T20:04:18.265807Z"
    }
   },
   "outputs": [],
   "source": [
    "def eval_regression(model, X, y, name='model'):\n",
    "    \"\"\"Returns a dataframe with regression metrics.  \n",
    "    optional name variable can be used to name each model and/or dataset used \n",
    "    for clarity\"\"\"\n",
    "    score_df = pd.DataFrame(index=[name])\n",
    "    preds = model.predict(X)\n",
    "    score_df.loc[name,'MAE'] = mean_absolute_error(y, preds)\n",
    "    score_df.loc[name,'RMSE'] = np.sqrt(mean_squared_error(y, preds))\n",
    "    score_df.loc[name,'R2'] = r2_score(y, preds)\n",
    "    return score_df\n",
    "\n",
    "def plot_history(history):\n",
    "  \"\"\"Takes a keras model learning history and plots each metric\"\"\"\n",
    "  \n",
    "  metrics = history.history.keys()\n",
    "  \n",
    "  for metric in metrics:\n",
    "      if not 'val' in metric:\n",
    "        plt.plot(history.history[f'{metric}'], label=f'{metric}')\n",
    "        if f'val_{metric}' in metrics:\n",
    "          plt.plot(history.history[f'val_{metric}'], label=f'val_{metric}')\n",
    "        plt.legend()\n",
    "        plt.title(f'{metric}')\n",
    "        plt.show()"
   ]
  },
  {
   "cell_type": "markdown",
   "metadata": {
    "id": "RAUUTWm93ojP"
   },
   "source": [
    "# Data\n",
    "\n",
    "We will be working with 2 different datasets in this project, 1 is a regression dataset and the other is a classification dataset.  This way you can practice doing both using deep learning.\n",
    "\n",
    "**NOTE**\n",
    "\n",
    "These datasets are very small for deep learning.  Deep learning models usually work best with very large datasets with at least 10,000 or more samples.  They work best on even larger datasets than that.  But, for demonstration we will use these smaller datasets.\n",
    "\n",
    "## Regression\n",
    "This is a dataset of housing prices in Boston from 1978.  Each row is a house and the dataset includes several features regarding each house.  Our target today will be the price of the home.\n",
    "\n"
   ]
  },
  {
   "cell_type": "code",
   "execution_count": 36,
   "metadata": {
    "ExecuteTime": {
     "end_time": "2023-01-31T20:04:18.559524Z",
     "start_time": "2023-01-31T20:04:18.281765Z"
    },
    "executionInfo": {
     "elapsed": 521,
     "status": "ok",
     "timestamp": 1669944730849,
     "user": {
      "displayName": "Josh Johnson",
      "userId": "08606005069848925988"
     },
     "user_tz": 480
    },
    "id": "8_PM7Bt81FKh"
   },
   "outputs": [],
   "source": [
    "regression_df = pd.read_csv('https://raw.githubusercontent.com/ninja-josh/image-storage/main/Boston_Housing_from_Sklearn.csv')"
   ]
  },
  {
   "cell_type": "markdown",
   "metadata": {
    "id": "1YPAPvdG6Sqy"
   },
   "source": [
    "# Regression\n",
    "\n",
    "Let's start with modeling the regression dataset"
   ]
  },
  {
   "cell_type": "code",
   "execution_count": 37,
   "metadata": {
    "ExecuteTime": {
     "end_time": "2023-01-31T20:04:18.591482Z",
     "start_time": "2023-01-31T20:04:18.561536Z"
    },
    "colab": {
     "base_uri": "https://localhost:8080/",
     "height": 423
    },
    "executionInfo": {
     "elapsed": 235,
     "status": "ok",
     "timestamp": 1669944731080,
     "user": {
      "displayName": "Josh Johnson",
      "userId": "08606005069848925988"
     },
     "user_tz": 480
    },
    "id": "3STtBugN3fp1",
    "outputId": "09b66a11-81ba-4c79-d844-d5d2dda8cdf0"
   },
   "outputs": [
    {
     "data": {
      "text/html": [
       "<div>\n",
       "<style scoped>\n",
       "    .dataframe tbody tr th:only-of-type {\n",
       "        vertical-align: middle;\n",
       "    }\n",
       "\n",
       "    .dataframe tbody tr th {\n",
       "        vertical-align: top;\n",
       "    }\n",
       "\n",
       "    .dataframe thead th {\n",
       "        text-align: right;\n",
       "    }\n",
       "</style>\n",
       "<table border=\"1\" class=\"dataframe\">\n",
       "  <thead>\n",
       "    <tr style=\"text-align: right;\">\n",
       "      <th></th>\n",
       "      <th>CRIM</th>\n",
       "      <th>NOX</th>\n",
       "      <th>RM</th>\n",
       "      <th>AGE</th>\n",
       "      <th>PTRATIO</th>\n",
       "      <th>LSTAT</th>\n",
       "      <th>PRICE</th>\n",
       "    </tr>\n",
       "  </thead>\n",
       "  <tbody>\n",
       "    <tr>\n",
       "      <th>0</th>\n",
       "      <td>0.00632</td>\n",
       "      <td>0.538</td>\n",
       "      <td>6.575</td>\n",
       "      <td>65.2</td>\n",
       "      <td>15.3</td>\n",
       "      <td>4.98</td>\n",
       "      <td>24.0</td>\n",
       "    </tr>\n",
       "    <tr>\n",
       "      <th>1</th>\n",
       "      <td>0.02731</td>\n",
       "      <td>0.469</td>\n",
       "      <td>6.421</td>\n",
       "      <td>78.9</td>\n",
       "      <td>17.8</td>\n",
       "      <td>9.14</td>\n",
       "      <td>21.6</td>\n",
       "    </tr>\n",
       "    <tr>\n",
       "      <th>2</th>\n",
       "      <td>0.02729</td>\n",
       "      <td>0.469</td>\n",
       "      <td>7.185</td>\n",
       "      <td>61.1</td>\n",
       "      <td>17.8</td>\n",
       "      <td>4.03</td>\n",
       "      <td>34.7</td>\n",
       "    </tr>\n",
       "    <tr>\n",
       "      <th>3</th>\n",
       "      <td>0.03237</td>\n",
       "      <td>0.458</td>\n",
       "      <td>6.998</td>\n",
       "      <td>45.8</td>\n",
       "      <td>18.7</td>\n",
       "      <td>2.94</td>\n",
       "      <td>33.4</td>\n",
       "    </tr>\n",
       "    <tr>\n",
       "      <th>4</th>\n",
       "      <td>0.06905</td>\n",
       "      <td>0.458</td>\n",
       "      <td>7.147</td>\n",
       "      <td>54.2</td>\n",
       "      <td>18.7</td>\n",
       "      <td>5.33</td>\n",
       "      <td>36.2</td>\n",
       "    </tr>\n",
       "    <tr>\n",
       "      <th>...</th>\n",
       "      <td>...</td>\n",
       "      <td>...</td>\n",
       "      <td>...</td>\n",
       "      <td>...</td>\n",
       "      <td>...</td>\n",
       "      <td>...</td>\n",
       "      <td>...</td>\n",
       "    </tr>\n",
       "    <tr>\n",
       "      <th>501</th>\n",
       "      <td>0.06263</td>\n",
       "      <td>0.573</td>\n",
       "      <td>6.593</td>\n",
       "      <td>69.1</td>\n",
       "      <td>21.0</td>\n",
       "      <td>9.67</td>\n",
       "      <td>22.4</td>\n",
       "    </tr>\n",
       "    <tr>\n",
       "      <th>502</th>\n",
       "      <td>0.04527</td>\n",
       "      <td>0.573</td>\n",
       "      <td>6.120</td>\n",
       "      <td>76.7</td>\n",
       "      <td>21.0</td>\n",
       "      <td>9.08</td>\n",
       "      <td>20.6</td>\n",
       "    </tr>\n",
       "    <tr>\n",
       "      <th>503</th>\n",
       "      <td>0.06076</td>\n",
       "      <td>0.573</td>\n",
       "      <td>6.976</td>\n",
       "      <td>91.0</td>\n",
       "      <td>21.0</td>\n",
       "      <td>5.64</td>\n",
       "      <td>23.9</td>\n",
       "    </tr>\n",
       "    <tr>\n",
       "      <th>504</th>\n",
       "      <td>0.10959</td>\n",
       "      <td>0.573</td>\n",
       "      <td>6.794</td>\n",
       "      <td>89.3</td>\n",
       "      <td>21.0</td>\n",
       "      <td>6.48</td>\n",
       "      <td>22.0</td>\n",
       "    </tr>\n",
       "    <tr>\n",
       "      <th>505</th>\n",
       "      <td>0.04741</td>\n",
       "      <td>0.573</td>\n",
       "      <td>6.030</td>\n",
       "      <td>80.8</td>\n",
       "      <td>21.0</td>\n",
       "      <td>7.88</td>\n",
       "      <td>11.9</td>\n",
       "    </tr>\n",
       "  </tbody>\n",
       "</table>\n",
       "<p>506 rows × 7 columns</p>\n",
       "</div>"
      ],
      "text/plain": [
       "        CRIM    NOX     RM   AGE  PTRATIO  LSTAT  PRICE\n",
       "0    0.00632  0.538  6.575  65.2     15.3   4.98   24.0\n",
       "1    0.02731  0.469  6.421  78.9     17.8   9.14   21.6\n",
       "2    0.02729  0.469  7.185  61.1     17.8   4.03   34.7\n",
       "3    0.03237  0.458  6.998  45.8     18.7   2.94   33.4\n",
       "4    0.06905  0.458  7.147  54.2     18.7   5.33   36.2\n",
       "..       ...    ...    ...   ...      ...    ...    ...\n",
       "501  0.06263  0.573  6.593  69.1     21.0   9.67   22.4\n",
       "502  0.04527  0.573  6.120  76.7     21.0   9.08   20.6\n",
       "503  0.06076  0.573  6.976  91.0     21.0   5.64   23.9\n",
       "504  0.10959  0.573  6.794  89.3     21.0   6.48   22.0\n",
       "505  0.04741  0.573  6.030  80.8     21.0   7.88   11.9\n",
       "\n",
       "[506 rows x 7 columns]"
      ]
     },
     "execution_count": 37,
     "metadata": {},
     "output_type": "execute_result"
    }
   ],
   "source": [
    "regression_df"
   ]
  },
  {
   "cell_type": "code",
   "execution_count": 38,
   "metadata": {
    "ExecuteTime": {
     "end_time": "2023-01-31T20:04:18.607445Z",
     "start_time": "2023-01-31T20:04:18.593449Z"
    },
    "colab": {
     "base_uri": "https://localhost:8080/"
    },
    "executionInfo": {
     "elapsed": 11,
     "status": "ok",
     "timestamp": 1669944731081,
     "user": {
      "displayName": "Josh Johnson",
      "userId": "08606005069848925988"
     },
     "user_tz": 480
    },
    "id": "uvcvdJUZ6YKX",
    "outputId": "85cc9c0c-1cdf-4128-8784-3887b0139030"
   },
   "outputs": [
    {
     "data": {
      "text/plain": [
       "False"
      ]
     },
     "execution_count": 38,
     "metadata": {},
     "output_type": "execute_result"
    }
   ],
   "source": [
    "regression_df.duplicated().any()"
   ]
  },
  {
   "cell_type": "code",
   "execution_count": 39,
   "metadata": {
    "ExecuteTime": {
     "end_time": "2023-01-31T20:04:18.637358Z",
     "start_time": "2023-01-31T20:04:18.608437Z"
    },
    "colab": {
     "base_uri": "https://localhost:8080/",
     "height": 300
    },
    "executionInfo": {
     "elapsed": 181,
     "status": "ok",
     "timestamp": 1669944731255,
     "user": {
      "displayName": "Josh Johnson",
      "userId": "08606005069848925988"
     },
     "user_tz": 480
    },
    "id": "IrxmHTaU6s3N",
    "outputId": "8687d0b7-8ed9-4941-c34f-18585965ce0b"
   },
   "outputs": [
    {
     "data": {
      "text/html": [
       "<div>\n",
       "<style scoped>\n",
       "    .dataframe tbody tr th:only-of-type {\n",
       "        vertical-align: middle;\n",
       "    }\n",
       "\n",
       "    .dataframe tbody tr th {\n",
       "        vertical-align: top;\n",
       "    }\n",
       "\n",
       "    .dataframe thead th {\n",
       "        text-align: right;\n",
       "    }\n",
       "</style>\n",
       "<table border=\"1\" class=\"dataframe\">\n",
       "  <thead>\n",
       "    <tr style=\"text-align: right;\">\n",
       "      <th></th>\n",
       "      <th>CRIM</th>\n",
       "      <th>NOX</th>\n",
       "      <th>RM</th>\n",
       "      <th>AGE</th>\n",
       "      <th>PTRATIO</th>\n",
       "      <th>LSTAT</th>\n",
       "      <th>PRICE</th>\n",
       "    </tr>\n",
       "  </thead>\n",
       "  <tbody>\n",
       "    <tr>\n",
       "      <th>count</th>\n",
       "      <td>506.000000</td>\n",
       "      <td>506.000000</td>\n",
       "      <td>506.000000</td>\n",
       "      <td>506.000000</td>\n",
       "      <td>506.000000</td>\n",
       "      <td>506.000000</td>\n",
       "      <td>506.000000</td>\n",
       "    </tr>\n",
       "    <tr>\n",
       "      <th>mean</th>\n",
       "      <td>3.613524</td>\n",
       "      <td>0.554695</td>\n",
       "      <td>6.284634</td>\n",
       "      <td>68.574901</td>\n",
       "      <td>18.455534</td>\n",
       "      <td>12.653063</td>\n",
       "      <td>22.532806</td>\n",
       "    </tr>\n",
       "    <tr>\n",
       "      <th>std</th>\n",
       "      <td>8.601545</td>\n",
       "      <td>0.115878</td>\n",
       "      <td>0.702617</td>\n",
       "      <td>28.148861</td>\n",
       "      <td>2.164946</td>\n",
       "      <td>7.141062</td>\n",
       "      <td>9.197104</td>\n",
       "    </tr>\n",
       "    <tr>\n",
       "      <th>min</th>\n",
       "      <td>0.006320</td>\n",
       "      <td>0.385000</td>\n",
       "      <td>3.561000</td>\n",
       "      <td>2.900000</td>\n",
       "      <td>12.600000</td>\n",
       "      <td>1.730000</td>\n",
       "      <td>5.000000</td>\n",
       "    </tr>\n",
       "    <tr>\n",
       "      <th>25%</th>\n",
       "      <td>0.082045</td>\n",
       "      <td>0.449000</td>\n",
       "      <td>5.885500</td>\n",
       "      <td>45.025000</td>\n",
       "      <td>17.400000</td>\n",
       "      <td>6.950000</td>\n",
       "      <td>17.025000</td>\n",
       "    </tr>\n",
       "    <tr>\n",
       "      <th>50%</th>\n",
       "      <td>0.256510</td>\n",
       "      <td>0.538000</td>\n",
       "      <td>6.208500</td>\n",
       "      <td>77.500000</td>\n",
       "      <td>19.050000</td>\n",
       "      <td>11.360000</td>\n",
       "      <td>21.200000</td>\n",
       "    </tr>\n",
       "    <tr>\n",
       "      <th>75%</th>\n",
       "      <td>3.677083</td>\n",
       "      <td>0.624000</td>\n",
       "      <td>6.623500</td>\n",
       "      <td>94.075000</td>\n",
       "      <td>20.200000</td>\n",
       "      <td>16.955000</td>\n",
       "      <td>25.000000</td>\n",
       "    </tr>\n",
       "    <tr>\n",
       "      <th>max</th>\n",
       "      <td>88.976200</td>\n",
       "      <td>0.871000</td>\n",
       "      <td>8.780000</td>\n",
       "      <td>100.000000</td>\n",
       "      <td>22.000000</td>\n",
       "      <td>37.970000</td>\n",
       "      <td>50.000000</td>\n",
       "    </tr>\n",
       "  </tbody>\n",
       "</table>\n",
       "</div>"
      ],
      "text/plain": [
       "             CRIM         NOX          RM         AGE     PTRATIO       LSTAT  \\\n",
       "count  506.000000  506.000000  506.000000  506.000000  506.000000  506.000000   \n",
       "mean     3.613524    0.554695    6.284634   68.574901   18.455534   12.653063   \n",
       "std      8.601545    0.115878    0.702617   28.148861    2.164946    7.141062   \n",
       "min      0.006320    0.385000    3.561000    2.900000   12.600000    1.730000   \n",
       "25%      0.082045    0.449000    5.885500   45.025000   17.400000    6.950000   \n",
       "50%      0.256510    0.538000    6.208500   77.500000   19.050000   11.360000   \n",
       "75%      3.677083    0.624000    6.623500   94.075000   20.200000   16.955000   \n",
       "max     88.976200    0.871000    8.780000  100.000000   22.000000   37.970000   \n",
       "\n",
       "            PRICE  \n",
       "count  506.000000  \n",
       "mean    22.532806  \n",
       "std      9.197104  \n",
       "min      5.000000  \n",
       "25%     17.025000  \n",
       "50%     21.200000  \n",
       "75%     25.000000  \n",
       "max     50.000000  "
      ]
     },
     "execution_count": 39,
     "metadata": {},
     "output_type": "execute_result"
    }
   ],
   "source": [
    "regression_df.describe()"
   ]
  },
  {
   "cell_type": "code",
   "execution_count": 40,
   "metadata": {
    "ExecuteTime": {
     "end_time": "2023-01-31T20:04:18.653316Z",
     "start_time": "2023-01-31T20:04:18.639353Z"
    },
    "executionInfo": {
     "elapsed": 4,
     "status": "ok",
     "timestamp": 1669944731256,
     "user": {
      "displayName": "Josh Johnson",
      "userId": "08606005069848925988"
     },
     "user_tz": 480
    },
    "id": "rU0zM_dk6xDd"
   },
   "outputs": [],
   "source": [
    "# Define X and Y and complete the train test split\n",
    "X = regression_df.drop(columns = 'PRICE')\n",
    "y = regression_df['PRICE']\n",
    "\n",
    "X_train, X_test, y_train, y_test = train_test_split(X,y, random_state = 42)"
   ]
  },
  {
   "cell_type": "markdown",
   "metadata": {
    "id": "MqS765vN8Xti"
   },
   "source": [
    "## Scaling\n",
    "\n",
    "Always scale your data for deep learning.  Otherwise you get a problem call 'Exploding Weights'.  Some weights will be updated much faster than others because the inputs are at larger scales.  This tends to hurt learning as data on smaller scales does not update as fast and doesn't get to contribute as much to the decision making process.  By scaling we put all features on the same footing."
   ]
  },
  {
   "cell_type": "code",
   "execution_count": 41,
   "metadata": {
    "ExecuteTime": {
     "end_time": "2023-01-31T20:04:18.668699Z",
     "start_time": "2023-01-31T20:04:18.655312Z"
    },
    "executionInfo": {
     "elapsed": 216,
     "status": "ok",
     "timestamp": 1669944731468,
     "user": {
      "displayName": "Josh Johnson",
      "userId": "08606005069848925988"
     },
     "user_tz": 480
    },
    "id": "bvCCtAhQ7gGe"
   },
   "outputs": [],
   "source": [
    "# Scale the data\n",
    "scaler = MinMaxScaler()\n",
    "\n",
    "scaler.fit(X_train)\n",
    "X_train = scaler.transform(X_train)\n",
    "X_test = scaler.transform(X_test)"
   ]
  },
  {
   "cell_type": "markdown",
   "metadata": {
    "id": "BzX4RBcu8TFx"
   },
   "source": [
    "## First Simple Model\n",
    "\n",
    "We always want to start simple, as deep learning models can get very complex fast and more complex models take more time to train and are more prone to overfitting.  A well performing simple model is better than a well performing complex model.\n",
    "\n",
    "## Input layer\n",
    "The first layer we will define is not technically the input layer.  We will define the first hidden layer with a special argument that tells Keras how to create a input layer:\n",
    "\n",
    "`input_dim=`\n",
    "\n",
    "Input layers can also be defined manually using tensorflow.keras.layers.InputLayer\n",
    "\n",
    "## Activation function\n",
    "\n",
    "For the single hidden layer we will try just 3 nodes and use a ReLU activation.  ReLUs tend to perform well for hidden nodes.\n",
    "\n",
    "## Output Layer\n",
    "\n",
    "For out output layer (last layer) we just use one node because we only want the output of the model to be one number.  We will use a linear activation function.  This will simply output the value from the weights and bias in the node with no change.  The output will be a continuous number, a float.  This will make our model a regression model.\n",
    "\n",
    "\n"
   ]
  },
  {
   "cell_type": "code",
   "execution_count": 42,
   "metadata": {
    "ExecuteTime": {
     "end_time": "2023-01-31T20:04:18.684658Z",
     "start_time": "2023-01-31T20:04:18.669697Z"
    },
    "colab": {
     "base_uri": "https://localhost:8080/"
    },
    "executionInfo": {
     "elapsed": 3,
     "status": "ok",
     "timestamp": 1669944731468,
     "user": {
      "displayName": "Josh Johnson",
      "userId": "08606005069848925988"
     },
     "user_tz": 480
    },
    "id": "DfYhlMbBwZcQ",
    "outputId": "0cef0044-01d7-4673-f37f-332fd73d5a69"
   },
   "outputs": [
    {
     "data": {
      "text/plain": [
       "6"
      ]
     },
     "execution_count": 42,
     "metadata": {},
     "output_type": "execute_result"
    }
   ],
   "source": [
    "# Check the shape of input\n",
    "\n",
    "X_train.shape[1]"
   ]
  },
  {
   "cell_type": "code",
   "execution_count": 43,
   "metadata": {
    "ExecuteTime": {
     "end_time": "2023-01-31T20:04:18.762449Z",
     "start_time": "2023-01-31T20:04:18.687648Z"
    },
    "colab": {
     "base_uri": "https://localhost:8080/"
    },
    "executionInfo": {
     "elapsed": 979,
     "status": "ok",
     "timestamp": 1669944732445,
     "user": {
      "displayName": "Josh Johnson",
      "userId": "08606005069848925988"
     },
     "user_tz": 480
    },
    "id": "AnjwY1dz7vcG",
    "outputId": "e7733112-a2b2-4fe3-c850-7299ab352ef7"
   },
   "outputs": [
    {
     "name": "stdout",
     "output_type": "stream",
     "text": [
      "Model: \"sequential_2\"\n",
      "_________________________________________________________________\n",
      " Layer (type)                Output Shape              Param #   \n",
      "=================================================================\n",
      " h1 (Dense)                  (None, 1000)              7000      \n",
      "                                                                 \n",
      " dropout (Dropout)           (None, 1000)              0         \n",
      "                                                                 \n",
      " h2 (Dense)                  (None, 1000)              1001000   \n",
      "                                                                 \n",
      " dropout_1 (Dropout)         (None, 1000)              0         \n",
      "                                                                 \n",
      " h3 (Dense)                  (None, 1000)              1001000   \n",
      "                                                                 \n",
      " dropout_2 (Dropout)         (None, 1000)              0         \n",
      "                                                                 \n",
      " h4 (Dense)                  (None, 1000)              1001000   \n",
      "                                                                 \n",
      " output (Dense)              (None, 1)                 1001      \n",
      "                                                                 \n",
      "=================================================================\n",
      "Total params: 3,011,001\n",
      "Trainable params: 3,011,001\n",
      "Non-trainable params: 0\n",
      "_________________________________________________________________\n"
     ]
    }
   ],
   "source": [
    "# Reset Random seed for consistency\n",
    "keras.backend.clear_session()\n",
    "np.random.seed(42)\n",
    "tf.random.set_seed(42)\n",
    "\n",
    "# use all features as input using input_dim\n",
    "input_dim = X_train.shape[1]\n",
    "\n",
    "# Instantiate your sequential model\n",
    "\n",
    "reg_model1 = Sequential()\n",
    "\n",
    "\n",
    "# Add first hidden layer\n",
    "reg_model1.add(Dense(10, activation='relu', input_dim=input_dim, name='h1'))\n",
    "reg_model1.add(Dense(10, activation='relu', name='h2'))\n",
    "# Add output layer with 1 node\n",
    "reg_model1.add(Dense(1, activation='linear', name ='output'))\n",
    "\n",
    "\n",
    "# Check summary of network \n",
    "reg_model.summary()\n",
    "\n"
   ]
  },
  {
   "cell_type": "markdown",
   "metadata": {
    "id": "9wAFuCDGOBzo"
   },
   "source": [
    "## Compiling\n",
    "\n",
    "Compiling the model puts all the pieces together to make it ready to train.  We need to specify:\n",
    "\n",
    "* **Optimizer:** An Adam optimizer is a favorite and often performs well, it's a good place to start.\n",
    "  - Other optimizers : Gradient Descent,Stochastic Gradient Descent,Adagrad,RMSProp\n",
    "* **Loss Function:** 'mse' or mean squared error.  This is the number our model will try to reduce in each epoch.  Since this is a regression model we want our model to minimize the mean squared error.\n",
    "* **Metrics:** 'mae' or mean absolute error.  We can provide a list of any appropriate metrics we want the model to keep track at each epoch.\n",
    "\n",
    "\n"
   ]
  },
  {
   "cell_type": "code",
   "execution_count": 44,
   "metadata": {
    "ExecuteTime": {
     "end_time": "2023-01-31T20:04:18.778406Z",
     "start_time": "2023-01-31T20:04:18.764444Z"
    },
    "executionInfo": {
     "elapsed": 2,
     "status": "ok",
     "timestamp": 1669944732672,
     "user": {
      "displayName": "Josh Johnson",
      "userId": "08606005069848925988"
     },
     "user_tz": 480
    },
    "id": "iLIXOZSMLnt5"
   },
   "outputs": [],
   "source": [
    "from tensorflow.keras.metrics import RootMeanSquaredError"
   ]
  },
  {
   "cell_type": "code",
   "execution_count": 45,
   "metadata": {
    "ExecuteTime": {
     "end_time": "2023-01-31T20:04:18.794363Z",
     "start_time": "2023-01-31T20:04:18.779404Z"
    },
    "executionInfo": {
     "elapsed": 2,
     "status": "ok",
     "timestamp": 1669944732672,
     "user": {
      "displayName": "Josh Johnson",
      "userId": "08606005069848925988"
     },
     "user_tz": 480
    },
    "id": "AwAGvWCZN1WC"
   },
   "outputs": [],
   "source": [
    "# Compile your model.\n",
    "rmse = RootMeanSquaredError(name='rmse')\n",
    "\n",
    "reg_model1.compile(optimizer= 'adam', loss = 'mse', metrics= ['mae', rmse])"
   ]
  },
  {
   "cell_type": "markdown",
   "metadata": {
    "id": "sBvS_wkr_hEh"
   },
   "source": [
    "# Training\n",
    "\n",
    "Let's try training our model for 100 few epochs.  Sometimes that is enough, and it will give us an idea whether our model is learning anything."
   ]
  },
  {
   "cell_type": "code",
   "execution_count": 46,
   "metadata": {
    "ExecuteTime": {
     "end_time": "2023-01-31T20:04:23.741127Z",
     "start_time": "2023-01-31T20:04:18.796357Z"
    },
    "colab": {
     "base_uri": "https://localhost:8080/"
    },
    "executionInfo": {
     "elapsed": 28286,
     "status": "ok",
     "timestamp": 1669944760956,
     "user": {
      "displayName": "Josh Johnson",
      "userId": "08606005069848925988"
     },
     "user_tz": 480
    },
    "id": "81VFx1n1-TS7",
    "outputId": "24e18a30-3f41-4ce4-ef1d-cb7775883238"
   },
   "outputs": [
    {
     "name": "stdout",
     "output_type": "stream",
     "text": [
      "Epoch 1/100\n",
      "12/12 [==============================] - 1s 20ms/step - loss: 637.9359 - mae: 23.4772 - rmse: 25.2574 - val_loss: 545.4328 - val_mae: 21.8478 - val_rmse: 23.3545\n",
      "Epoch 2/100\n",
      "12/12 [==============================] - 0s 4ms/step - loss: 627.7352 - mae: 23.2455 - rmse: 25.0546 - val_loss: 536.6983 - val_mae: 21.6346 - val_rmse: 23.1667\n",
      "Epoch 3/100\n",
      "12/12 [==============================] - 0s 3ms/step - loss: 619.5906 - mae: 23.0577 - rmse: 24.8916 - val_loss: 530.1472 - val_mae: 21.4729 - val_rmse: 23.0249\n",
      "Epoch 4/100\n",
      "12/12 [==============================] - 0s 4ms/step - loss: 613.4155 - mae: 22.9153 - rmse: 24.7672 - val_loss: 525.1700 - val_mae: 21.3489 - val_rmse: 22.9166\n",
      "Epoch 5/100\n",
      "12/12 [==============================] - 0s 3ms/step - loss: 608.6854 - mae: 22.8067 - rmse: 24.6716 - val_loss: 521.3907 - val_mae: 21.2550 - val_rmse: 22.8340\n",
      "Epoch 6/100\n",
      "12/12 [==============================] - 0s 3ms/step - loss: 604.8336 - mae: 22.7205 - rmse: 24.5934 - val_loss: 518.1628 - val_mae: 21.1754 - val_rmse: 22.7632\n",
      "Epoch 7/100\n",
      "12/12 [==============================] - 0s 3ms/step - loss: 601.2771 - mae: 22.6404 - rmse: 24.5210 - val_loss: 514.7419 - val_mae: 21.0910 - val_rmse: 22.6879\n",
      "Epoch 8/100\n",
      "12/12 [==============================] - 0s 4ms/step - loss: 597.3553 - mae: 22.5518 - rmse: 24.4409 - val_loss: 510.8044 - val_mae: 20.9937 - val_rmse: 22.6010\n",
      "Epoch 9/100\n",
      "12/12 [==============================] - 0s 4ms/step - loss: 592.8216 - mae: 22.4488 - rmse: 24.3479 - val_loss: 506.1350 - val_mae: 20.8781 - val_rmse: 22.4974\n",
      "Epoch 10/100\n",
      "12/12 [==============================] - 0s 3ms/step - loss: 587.4317 - mae: 22.3255 - rmse: 24.2370 - val_loss: 500.5601 - val_mae: 20.7391 - val_rmse: 22.3732\n",
      "Epoch 11/100\n",
      "12/12 [==============================] - 0s 4ms/step - loss: 580.9932 - mae: 22.1774 - rmse: 24.1038 - val_loss: 493.8637 - val_mae: 20.5709 - val_rmse: 22.2230\n",
      "Epoch 12/100\n",
      "12/12 [==============================] - 0s 3ms/step - loss: 573.3188 - mae: 21.9975 - rmse: 23.9441 - val_loss: 485.9012 - val_mae: 20.3687 - val_rmse: 22.0432\n",
      "Epoch 13/100\n",
      "12/12 [==============================] - 0s 3ms/step - loss: 564.3036 - mae: 21.7826 - rmse: 23.7551 - val_loss: 476.5297 - val_mae: 20.1275 - val_rmse: 21.8296\n",
      "Epoch 14/100\n",
      "12/12 [==============================] - 0s 3ms/step - loss: 553.5869 - mae: 21.5301 - rmse: 23.5284 - val_loss: 465.8123 - val_mae: 19.8475 - val_rmse: 21.5827\n",
      "Epoch 15/100\n",
      "12/12 [==============================] - 0s 4ms/step - loss: 541.4820 - mae: 21.2328 - rmse: 23.2698 - val_loss: 453.3792 - val_mae: 19.5167 - val_rmse: 21.2927\n",
      "Epoch 16/100\n",
      "12/12 [==============================] - 0s 3ms/step - loss: 527.4489 - mae: 20.8851 - rmse: 22.9663 - val_loss: 439.3888 - val_mae: 19.1367 - val_rmse: 20.9616\n",
      "Epoch 17/100\n",
      "12/12 [==============================] - 0s 8ms/step - loss: 511.8189 - mae: 20.4844 - rmse: 22.6234 - val_loss: 423.6417 - val_mae: 18.6981 - val_rmse: 20.5826\n",
      "Epoch 18/100\n",
      "12/12 [==============================] - 0s 5ms/step - loss: 494.0406 - mae: 20.0307 - rmse: 22.2270 - val_loss: 406.4802 - val_mae: 18.2064 - val_rmse: 20.1614\n",
      "Epoch 19/100\n",
      "12/12 [==============================] - 0s 4ms/step - loss: 474.7808 - mae: 19.5136 - rmse: 21.7895 - val_loss: 387.5897 - val_mae: 17.6472 - val_rmse: 19.6873\n",
      "Epoch 20/100\n",
      "12/12 [==============================] - 0s 4ms/step - loss: 453.9015 - mae: 18.9328 - rmse: 21.3050 - val_loss: 367.1140 - val_mae: 17.0243 - val_rmse: 19.1602\n",
      "Epoch 21/100\n",
      "12/12 [==============================] - 0s 3ms/step - loss: 430.9679 - mae: 18.2969 - rmse: 20.7598 - val_loss: 345.6321 - val_mae: 16.3484 - val_rmse: 18.5912\n",
      "Epoch 22/100\n",
      "12/12 [==============================] - 0s 3ms/step - loss: 406.9536 - mae: 17.5923 - rmse: 20.1731 - val_loss: 323.0091 - val_mae: 15.6050 - val_rmse: 17.9725\n",
      "Epoch 23/100\n",
      "12/12 [==============================] - 0s 3ms/step - loss: 381.5329 - mae: 16.8338 - rmse: 19.5329 - val_loss: 299.8240 - val_mae: 14.8236 - val_rmse: 17.3154\n",
      "Epoch 24/100\n",
      "12/12 [==============================] - 0s 3ms/step - loss: 355.6385 - mae: 16.0330 - rmse: 18.8584 - val_loss: 275.8640 - val_mae: 13.9925 - val_rmse: 16.6092\n",
      "Epoch 25/100\n",
      "12/12 [==============================] - 0s 3ms/step - loss: 328.0506 - mae: 15.1910 - rmse: 18.1122 - val_loss: 251.8018 - val_mae: 13.1271 - val_rmse: 15.8683\n",
      "Epoch 26/100\n",
      "12/12 [==============================] - 0s 3ms/step - loss: 300.3819 - mae: 14.2951 - rmse: 17.3315 - val_loss: 227.7231 - val_mae: 12.2709 - val_rmse: 15.0905\n",
      "Epoch 27/100\n",
      "12/12 [==============================] - 0s 4ms/step - loss: 273.3638 - mae: 13.3480 - rmse: 16.5337 - val_loss: 204.9110 - val_mae: 11.4118 - val_rmse: 14.3147\n",
      "Epoch 28/100\n",
      "12/12 [==============================] - 0s 3ms/step - loss: 247.3674 - mae: 12.4815 - rmse: 15.7279 - val_loss: 184.6041 - val_mae: 10.6773 - val_rmse: 13.5869\n",
      "Epoch 29/100\n",
      "12/12 [==============================] - 0s 3ms/step - loss: 224.4918 - mae: 11.7546 - rmse: 14.9831 - val_loss: 166.8063 - val_mae: 10.0831 - val_rmse: 12.9154\n",
      "Epoch 30/100\n",
      "12/12 [==============================] - 0s 3ms/step - loss: 204.8253 - mae: 11.1453 - rmse: 14.3117 - val_loss: 151.9419 - val_mae: 9.5981 - val_rmse: 12.3265\n",
      "Epoch 31/100\n",
      "12/12 [==============================] - 0s 4ms/step - loss: 187.1627 - mae: 10.5798 - rmse: 13.6807 - val_loss: 140.8336 - val_mae: 9.2239 - val_rmse: 11.8673\n",
      "Epoch 32/100\n",
      "12/12 [==============================] - 0s 3ms/step - loss: 173.8120 - mae: 10.2223 - rmse: 13.1838 - val_loss: 132.3434 - val_mae: 8.8929 - val_rmse: 11.5041\n",
      "Epoch 33/100\n",
      "12/12 [==============================] - 0s 3ms/step - loss: 163.1898 - mae: 9.8745 - rmse: 12.7746 - val_loss: 126.2974 - val_mae: 8.6338 - val_rmse: 11.2382\n",
      "Epoch 34/100\n",
      "12/12 [==============================] - 0s 3ms/step - loss: 154.9205 - mae: 9.6401 - rmse: 12.4467 - val_loss: 122.2241 - val_mae: 8.4481 - val_rmse: 11.0555\n",
      "Epoch 35/100\n",
      "12/12 [==============================] - 0s 3ms/step - loss: 148.5890 - mae: 9.4599 - rmse: 12.1897 - val_loss: 119.6552 - val_mae: 8.3384 - val_rmse: 10.9387\n",
      "Epoch 36/100\n",
      "12/12 [==============================] - 0s 4ms/step - loss: 144.6122 - mae: 9.3445 - rmse: 12.0255 - val_loss: 117.7665 - val_mae: 8.2873 - val_rmse: 10.8520\n",
      "Epoch 37/100\n",
      "12/12 [==============================] - 0s 3ms/step - loss: 140.7953 - mae: 9.2261 - rmse: 11.8657 - val_loss: 116.4319 - val_mae: 8.2474 - val_rmse: 10.7904\n",
      "Epoch 38/100\n",
      "12/12 [==============================] - 0s 3ms/step - loss: 138.4121 - mae: 9.1595 - rmse: 11.7649 - val_loss: 115.4402 - val_mae: 8.2128 - val_rmse: 10.7443\n",
      "Epoch 39/100\n",
      "12/12 [==============================] - 0s 4ms/step - loss: 135.8686 - mae: 9.0981 - rmse: 11.6563 - val_loss: 114.2927 - val_mae: 8.1720 - val_rmse: 10.6908\n",
      "Epoch 40/100\n",
      "12/12 [==============================] - 0s 3ms/step - loss: 133.9888 - mae: 9.0474 - rmse: 11.5754 - val_loss: 113.3547 - val_mae: 8.1440 - val_rmse: 10.6468\n",
      "Epoch 41/100\n",
      "12/12 [==============================] - 0s 4ms/step - loss: 132.1472 - mae: 8.9891 - rmse: 11.4955 - val_loss: 112.2922 - val_mae: 8.1097 - val_rmse: 10.5968\n",
      "Epoch 42/100\n",
      "12/12 [==============================] - 0s 3ms/step - loss: 130.4308 - mae: 8.9328 - rmse: 11.4206 - val_loss: 111.1255 - val_mae: 8.0698 - val_rmse: 10.5416\n",
      "Epoch 43/100\n",
      "12/12 [==============================] - 0s 3ms/step - loss: 128.7662 - mae: 8.8799 - rmse: 11.3475 - val_loss: 109.8641 - val_mae: 8.0239 - val_rmse: 10.4816\n",
      "Epoch 44/100\n",
      "12/12 [==============================] - 0s 4ms/step - loss: 127.1158 - mae: 8.8161 - rmse: 11.2746 - val_loss: 108.4755 - val_mae: 7.9697 - val_rmse: 10.4152\n",
      "Epoch 45/100\n",
      "12/12 [==============================] - 0s 3ms/step - loss: 125.5112 - mae: 8.7609 - rmse: 11.2032 - val_loss: 107.3459 - val_mae: 7.9293 - val_rmse: 10.3608\n",
      "Epoch 46/100\n",
      "12/12 [==============================] - 0s 3ms/step - loss: 123.8186 - mae: 8.6980 - rmse: 11.1274 - val_loss: 105.8634 - val_mae: 7.8678 - val_rmse: 10.2890\n",
      "Epoch 47/100\n",
      "12/12 [==============================] - 0s 3ms/step - loss: 122.2397 - mae: 8.6331 - rmse: 11.0562 - val_loss: 104.4017 - val_mae: 7.8074 - val_rmse: 10.2177\n",
      "Epoch 48/100\n",
      "12/12 [==============================] - 0s 4ms/step - loss: 120.5167 - mae: 8.5659 - rmse: 10.9780 - val_loss: 102.9629 - val_mae: 7.7481 - val_rmse: 10.1471\n",
      "Epoch 49/100\n",
      "12/12 [==============================] - 0s 3ms/step - loss: 118.8280 - mae: 8.5002 - rmse: 10.9008 - val_loss: 101.6538 - val_mae: 7.6974 - val_rmse: 10.0823\n",
      "Epoch 50/100\n",
      "12/12 [==============================] - 0s 3ms/step - loss: 117.0377 - mae: 8.4297 - rmse: 10.8184 - val_loss: 100.0234 - val_mae: 7.6296 - val_rmse: 10.0012\n",
      "Epoch 51/100\n",
      "12/12 [==============================] - 0s 3ms/step - loss: 115.0483 - mae: 8.3473 - rmse: 10.7261 - val_loss: 98.1493 - val_mae: 7.5469 - val_rmse: 9.9070\n",
      "Epoch 52/100\n",
      "12/12 [==============================] - 0s 3ms/step - loss: 112.9756 - mae: 8.2557 - rmse: 10.6290 - val_loss: 96.0446 - val_mae: 7.4509 - val_rmse: 9.8002\n",
      "Epoch 53/100\n",
      "12/12 [==============================] - 0s 3ms/step - loss: 110.5010 - mae: 8.1413 - rmse: 10.5119 - val_loss: 93.4824 - val_mae: 7.3249 - val_rmse: 9.6686\n",
      "Epoch 54/100\n",
      "12/12 [==============================] - 0s 3ms/step - loss: 108.3141 - mae: 8.0379 - rmse: 10.4074 - val_loss: 91.5949 - val_mae: 7.2410 - val_rmse: 9.5705\n",
      "Epoch 55/100\n",
      "12/12 [==============================] - 0s 3ms/step - loss: 105.9819 - mae: 7.9413 - rmse: 10.2948 - val_loss: 89.4618 - val_mae: 7.1392 - val_rmse: 9.4584\n",
      "Epoch 56/100\n",
      "12/12 [==============================] - 0s 3ms/step - loss: 103.7320 - mae: 7.8391 - rmse: 10.1849 - val_loss: 87.6429 - val_mae: 7.0548 - val_rmse: 9.3618\n",
      "Epoch 57/100\n",
      "12/12 [==============================] - 0s 3ms/step - loss: 101.3909 - mae: 7.7437 - rmse: 10.0693 - val_loss: 85.9010 - val_mae: 6.9763 - val_rmse: 9.2683\n",
      "Epoch 58/100\n",
      "12/12 [==============================] - 0s 3ms/step - loss: 99.0438 - mae: 7.6379 - rmse: 9.9521 - val_loss: 83.6111 - val_mae: 6.8604 - val_rmse: 9.1439\n",
      "Epoch 59/100\n",
      "12/12 [==============================] - 0s 3ms/step - loss: 96.7306 - mae: 7.5334 - rmse: 9.8352 - val_loss: 81.8301 - val_mae: 6.7802 - val_rmse: 9.0460\n",
      "Epoch 60/100\n",
      "12/12 [==============================] - 0s 3ms/step - loss: 94.2320 - mae: 7.4258 - rmse: 9.7073 - val_loss: 79.7966 - val_mae: 6.6794 - val_rmse: 8.9329\n",
      "Epoch 61/100\n",
      "12/12 [==============================] - 0s 3ms/step - loss: 91.8002 - mae: 7.3121 - rmse: 9.5812 - val_loss: 77.5284 - val_mae: 6.5597 - val_rmse: 8.8050\n",
      "Epoch 62/100\n",
      "12/12 [==============================] - 0s 3ms/step - loss: 89.2999 - mae: 7.1916 - rmse: 9.4499 - val_loss: 75.3137 - val_mae: 6.4413 - val_rmse: 8.6783\n",
      "Epoch 63/100\n",
      "12/12 [==============================] - 0s 3ms/step - loss: 86.7793 - mae: 7.0534 - rmse: 9.3155 - val_loss: 72.4651 - val_mae: 6.2659 - val_rmse: 8.5126\n",
      "Epoch 64/100\n",
      "12/12 [==============================] - 0s 3ms/step - loss: 84.1553 - mae: 6.9151 - rmse: 9.1736 - val_loss: 70.5834 - val_mae: 6.1692 - val_rmse: 8.4014\n",
      "Epoch 65/100\n",
      "12/12 [==============================] - 0s 3ms/step - loss: 81.4515 - mae: 6.7937 - rmse: 9.0250 - val_loss: 68.3627 - val_mae: 6.0500 - val_rmse: 8.2682\n",
      "Epoch 66/100\n",
      "12/12 [==============================] - 0s 4ms/step - loss: 78.8195 - mae: 6.6726 - rmse: 8.8780 - val_loss: 66.2816 - val_mae: 5.9389 - val_rmse: 8.1413\n",
      "Epoch 67/100\n",
      "12/12 [==============================] - 0s 3ms/step - loss: 76.1648 - mae: 6.5299 - rmse: 8.7272 - val_loss: 63.6420 - val_mae: 5.7839 - val_rmse: 7.9776\n",
      "Epoch 68/100\n",
      "12/12 [==============================] - 0s 4ms/step - loss: 73.4908 - mae: 6.3859 - rmse: 8.5727 - val_loss: 61.6356 - val_mae: 5.6722 - val_rmse: 7.8508\n",
      "Epoch 69/100\n",
      "12/12 [==============================] - 0s 3ms/step - loss: 71.0094 - mae: 6.2529 - rmse: 8.4267 - val_loss: 59.3563 - val_mae: 5.5394 - val_rmse: 7.7043\n",
      "Epoch 70/100\n",
      "12/12 [==============================] - 0s 3ms/step - loss: 68.4919 - mae: 6.1216 - rmse: 8.2760 - val_loss: 57.5487 - val_mae: 5.4480 - val_rmse: 7.5861\n",
      "Epoch 71/100\n",
      "12/12 [==============================] - 0s 3ms/step - loss: 65.9796 - mae: 5.9922 - rmse: 8.1228 - val_loss: 55.3901 - val_mae: 5.3203 - val_rmse: 7.4424\n",
      "Epoch 72/100\n",
      "12/12 [==============================] - 0s 3ms/step - loss: 63.4457 - mae: 5.8337 - rmse: 7.9653 - val_loss: 53.1781 - val_mae: 5.1711 - val_rmse: 7.2923\n",
      "Epoch 73/100\n",
      "12/12 [==============================] - 0s 3ms/step - loss: 61.1071 - mae: 5.7216 - rmse: 7.8171 - val_loss: 51.7150 - val_mae: 5.0985 - val_rmse: 7.1913\n",
      "Epoch 74/100\n",
      "12/12 [==============================] - 0s 3ms/step - loss: 58.7910 - mae: 5.5870 - rmse: 7.6675 - val_loss: 49.7617 - val_mae: 4.9678 - val_rmse: 7.0542\n",
      "Epoch 75/100\n",
      "12/12 [==============================] - 0s 3ms/step - loss: 56.7264 - mae: 5.4745 - rmse: 7.5317 - val_loss: 48.0241 - val_mae: 4.8555 - val_rmse: 6.9299\n",
      "Epoch 76/100\n",
      "12/12 [==============================] - 0s 3ms/step - loss: 54.5292 - mae: 5.3254 - rmse: 7.3844 - val_loss: 46.1778 - val_mae: 4.7177 - val_rmse: 6.7954\n",
      "Epoch 77/100\n",
      "12/12 [==============================] - 0s 3ms/step - loss: 52.3727 - mae: 5.2124 - rmse: 7.2369 - val_loss: 44.8626 - val_mae: 4.6413 - val_rmse: 6.6980\n",
      "Epoch 78/100\n",
      "12/12 [==============================] - 0s 3ms/step - loss: 50.6525 - mae: 5.1073 - rmse: 7.1171 - val_loss: 43.1976 - val_mae: 4.5166 - val_rmse: 6.5725\n",
      "Epoch 79/100\n",
      "12/12 [==============================] - 0s 4ms/step - loss: 48.8789 - mae: 5.0157 - rmse: 6.9913 - val_loss: 42.2952 - val_mae: 4.5058 - val_rmse: 6.5035\n",
      "Epoch 80/100\n",
      "12/12 [==============================] - 0s 4ms/step - loss: 47.0092 - mae: 4.9161 - rmse: 6.8563 - val_loss: 40.7871 - val_mae: 4.3797 - val_rmse: 6.3865\n",
      "Epoch 81/100\n",
      "12/12 [==============================] - 0s 3ms/step - loss: 45.4121 - mae: 4.8202 - rmse: 6.7388 - val_loss: 39.7411 - val_mae: 4.3211 - val_rmse: 6.3041\n",
      "Epoch 82/100\n",
      "12/12 [==============================] - 0s 3ms/step - loss: 43.9909 - mae: 4.7412 - rmse: 6.6326 - val_loss: 38.5840 - val_mae: 4.2289 - val_rmse: 6.2116\n",
      "Epoch 83/100\n",
      "12/12 [==============================] - 0s 3ms/step - loss: 42.5811 - mae: 4.6649 - rmse: 6.5254 - val_loss: 37.7852 - val_mae: 4.1864 - val_rmse: 6.1470\n",
      "Epoch 84/100\n",
      "12/12 [==============================] - 0s 3ms/step - loss: 41.4154 - mae: 4.6038 - rmse: 6.4355 - val_loss: 37.0560 - val_mae: 4.1651 - val_rmse: 6.0874\n",
      "Epoch 85/100\n",
      "12/12 [==============================] - 0s 3ms/step - loss: 40.1823 - mae: 4.5268 - rmse: 6.3390 - val_loss: 36.0252 - val_mae: 4.0669 - val_rmse: 6.0021\n",
      "Epoch 86/100\n",
      "12/12 [==============================] - 0s 3ms/step - loss: 39.2030 - mae: 4.4648 - rmse: 6.2612 - val_loss: 35.4776 - val_mae: 4.0699 - val_rmse: 5.9563\n",
      "Epoch 87/100\n",
      "12/12 [==============================] - 0s 3ms/step - loss: 38.1708 - mae: 4.4155 - rmse: 6.1783 - val_loss: 34.9015 - val_mae: 4.0376 - val_rmse: 5.9077\n",
      "Epoch 88/100\n",
      "12/12 [==============================] - 0s 3ms/step - loss: 37.3283 - mae: 4.3489 - rmse: 6.1097 - val_loss: 34.2120 - val_mae: 3.9679 - val_rmse: 5.8491\n",
      "Epoch 89/100\n",
      "12/12 [==============================] - 0s 3ms/step - loss: 36.5009 - mae: 4.3036 - rmse: 6.0416 - val_loss: 33.8163 - val_mae: 3.9544 - val_rmse: 5.8152\n",
      "Epoch 90/100\n",
      "12/12 [==============================] - 0s 3ms/step - loss: 35.7870 - mae: 4.2633 - rmse: 5.9822 - val_loss: 33.4646 - val_mae: 3.9494 - val_rmse: 5.7849\n",
      "Epoch 91/100\n",
      "12/12 [==============================] - 0s 3ms/step - loss: 35.2405 - mae: 4.2247 - rmse: 5.9364 - val_loss: 33.1139 - val_mae: 3.9279 - val_rmse: 5.7545\n",
      "Epoch 92/100\n",
      "12/12 [==============================] - 0s 3ms/step - loss: 34.5715 - mae: 4.2004 - rmse: 5.8798 - val_loss: 32.8114 - val_mae: 3.9173 - val_rmse: 5.7281\n",
      "Epoch 93/100\n",
      "12/12 [==============================] - 0s 3ms/step - loss: 34.0576 - mae: 4.1500 - rmse: 5.8359 - val_loss: 32.3236 - val_mae: 3.8460 - val_rmse: 5.6854\n",
      "Epoch 94/100\n",
      "12/12 [==============================] - 0s 3ms/step - loss: 33.6068 - mae: 4.1037 - rmse: 5.7971 - val_loss: 32.0696 - val_mae: 3.8367 - val_rmse: 5.6630\n",
      "Epoch 95/100\n",
      "12/12 [==============================] - 0s 3ms/step - loss: 33.1864 - mae: 4.0974 - rmse: 5.7608 - val_loss: 31.9891 - val_mae: 3.8787 - val_rmse: 5.6559\n",
      "Epoch 96/100\n",
      "12/12 [==============================] - 0s 3ms/step - loss: 32.8935 - mae: 4.0526 - rmse: 5.7353 - val_loss: 31.6176 - val_mae: 3.8079 - val_rmse: 5.6230\n"
     ]
    },
    {
     "name": "stdout",
     "output_type": "stream",
     "text": [
      "Epoch 97/100\n",
      "12/12 [==============================] - 0s 3ms/step - loss: 32.5093 - mae: 4.0443 - rmse: 5.7017 - val_loss: 31.6458 - val_mae: 3.8778 - val_rmse: 5.6255\n",
      "Epoch 98/100\n",
      "12/12 [==============================] - 0s 3ms/step - loss: 32.1349 - mae: 4.0166 - rmse: 5.6688 - val_loss: 31.3192 - val_mae: 3.8200 - val_rmse: 5.5964\n",
      "Epoch 99/100\n",
      "12/12 [==============================] - 0s 3ms/step - loss: 31.9491 - mae: 4.0019 - rmse: 5.6524 - val_loss: 31.2125 - val_mae: 3.8294 - val_rmse: 5.5868\n",
      "Epoch 100/100\n",
      "12/12 [==============================] - 0s 3ms/step - loss: 31.6734 - mae: 3.9582 - rmse: 5.6279 - val_loss: 30.9834 - val_mae: 3.7755 - val_rmse: 5.5663\n"
     ]
    }
   ],
   "source": [
    "# Fit your model\n",
    "\n",
    "history = reg_model1.fit(X_train, y_train,\n",
    "                        validation_data = (X_test, y_test),\n",
    "                        epochs = 100)\n"
   ]
  },
  {
   "cell_type": "code",
   "execution_count": 47,
   "metadata": {
    "ExecuteTime": {
     "end_time": "2023-01-31T20:04:24.218895Z",
     "start_time": "2023-01-31T20:04:23.743123Z"
    },
    "colab": {
     "base_uri": "https://localhost:8080/",
     "height": 809
    },
    "executionInfo": {
     "elapsed": 1105,
     "status": "ok",
     "timestamp": 1669944762052,
     "user": {
      "displayName": "Josh Johnson",
      "userId": "08606005069848925988"
     },
     "user_tz": 480
    },
    "id": "q8Kox9hOOq7w",
    "outputId": "ff40a1f0-b4f3-48e8-9b75-69e219d7d572"
   },
   "outputs": [
    {
     "data": {
      "image/png": "[encoded data removed]",
      "text/plain": [
       "<Figure size 640x480 with 1 Axes>"
      ]
     },
     "metadata": {},
     "output_type": "display_data"
    },
    {
     "data": {
      "image/png": "[encoded data removed]",
      "text/plain": [
       "<Figure size 640x480 with 1 Axes>"
      ]
     },
     "metadata": {},
     "output_type": "display_data"
    },
    {
     "data": {
      "image/png": "[encoded data removed]",
      "text/plain": [
       "<Figure size 640x480 with 1 Axes>"
      ]
     },
     "metadata": {},
     "output_type": "display_data"
    }
   ],
   "source": [
    "# Apply the custom function to see how your model is doing\n",
    "plot_history(history)"
   ]
  },
  {
   "cell_type": "markdown",
   "metadata": {
    "id": "1Ic8eFsL_x2m"
   },
   "source": [
    "## Evaluation\n"
   ]
  },
  {
   "cell_type": "code",
   "execution_count": 48,
   "metadata": {
    "ExecuteTime": {
     "end_time": "2023-01-31T20:04:24.391029Z",
     "start_time": "2023-01-31T20:04:24.219898Z"
    },
    "colab": {
     "base_uri": "https://localhost:8080/"
    },
    "executionInfo": {
     "elapsed": 243,
     "status": "ok",
     "timestamp": 1669944762292,
     "user": {
      "displayName": "Josh Johnson",
      "userId": "08606005069848925988"
     },
     "user_tz": 480
    },
    "id": "33J5dOt3A8ZO",
    "outputId": "25b6d584-eb7e-4251-82a4-dbe555a4ad74"
   },
   "outputs": [
    {
     "name": "stdout",
     "output_type": "stream",
     "text": [
      "12/12 [==============================] - 0s 907us/step\n",
      "4/4 [==============================] - 0s 997us/step\n"
     ]
    },
    {
     "data": {
      "text/html": [
       "<div>\n",
       "<style scoped>\n",
       "    .dataframe tbody tr th:only-of-type {\n",
       "        vertical-align: middle;\n",
       "    }\n",
       "\n",
       "    .dataframe tbody tr th {\n",
       "        vertical-align: top;\n",
       "    }\n",
       "\n",
       "    .dataframe thead th {\n",
       "        text-align: right;\n",
       "    }\n",
       "</style>\n",
       "<table border=\"1\" class=\"dataframe\">\n",
       "  <thead>\n",
       "    <tr style=\"text-align: right;\">\n",
       "      <th></th>\n",
       "      <th>MAE</th>\n",
       "      <th>RMSE</th>\n",
       "      <th>R2</th>\n",
       "    </tr>\n",
       "  </thead>\n",
       "  <tbody>\n",
       "    <tr>\n",
       "      <th>reg_model1 Train</th>\n",
       "      <td>3.941398</td>\n",
       "      <td>5.606805</td>\n",
       "      <td>0.645516</td>\n",
       "    </tr>\n",
       "    <tr>\n",
       "      <th>reg_model1 test</th>\n",
       "      <td>3.775498</td>\n",
       "      <td>5.566272</td>\n",
       "      <td>0.557552</td>\n",
       "    </tr>\n",
       "  </tbody>\n",
       "</table>\n",
       "</div>"
      ],
      "text/plain": [
       "                       MAE      RMSE        R2\n",
       "reg_model1 Train  3.941398  5.606805  0.645516\n",
       "reg_model1 test   3.775498  5.566272  0.557552"
      ]
     },
     "execution_count": 48,
     "metadata": {},
     "output_type": "execute_result"
    }
   ],
   "source": [
    "train_scores = eval_regression(reg_model1, \n",
    "                         X_train, \n",
    "                         y_train, \n",
    "                         name='reg_model1 Train')\n",
    "test_scores = eval_regression(reg_model1, \n",
    "                                       X_test, \n",
    "                                       y_test, \n",
    "                                       name='reg_model1 test')\n",
    "scores = pd.concat([train_scores, test_scores])\n",
    "scores"
   ]
  },
  {
   "cell_type": "markdown",
   "metadata": {
    "id": "iwqrIe9HrQ-q"
   },
   "source": [
    "# <center> Attack Bias or Variance? </center>\n",
    "\n",
    "How should we tune this regression model?"
   ]
  },
  {
   "cell_type": "code",
   "execution_count": null,
   "metadata": {
    "executionInfo": {
     "elapsed": 3,
     "status": "ok",
     "timestamp": 1669944762293,
     "user": {
      "displayName": "Josh Johnson",
      "userId": "08606005069848925988"
     },
     "user_tz": 480
    },
    "id": "t8DEVI7drWZf"
   },
   "outputs": [],
   "source": []
  },
  {
   "cell_type": "code",
   "execution_count": 49,
   "metadata": {
    "ExecuteTime": {
     "end_time": "2023-01-31T20:04:24.453861Z",
     "start_time": "2023-01-31T20:04:24.393023Z"
    },
    "colab": {
     "base_uri": "https://localhost:8080/"
    },
    "executionInfo": {
     "elapsed": 206,
     "status": "ok",
     "timestamp": 1669945063595,
     "user": {
      "displayName": "Josh Johnson",
      "userId": "08606005069848925988"
     },
     "user_tz": 480
    },
    "id": "l5RaVlDPei14",
    "outputId": "47499aa0-f1c5-4573-f697-8c2902ebee0a"
   },
   "outputs": [
    {
     "name": "stdout",
     "output_type": "stream",
     "text": [
      "Model: \"sequential\"\n",
      "_________________________________________________________________\n",
      " Layer (type)                Output Shape              Param #   \n",
      "=================================================================\n",
      " h1 (Dense)                  (None, 100)               700       \n",
      "                                                                 \n",
      " h2 (Dense)                  (None, 100)               10100     \n",
      "                                                                 \n",
      " output (Dense)              (None, 1)                 101       \n",
      "                                                                 \n",
      "=================================================================\n",
      "Total params: 10,901\n",
      "Trainable params: 10,901\n",
      "Non-trainable params: 0\n",
      "_________________________________________________________________\n"
     ]
    }
   ],
   "source": [
    "# Reset Random seed for consistency\n",
    "keras.backend.clear_session()\n",
    "np.random.seed(42)\n",
    "tf.random.set_seed(42)\n",
    "\n",
    "# Instantiate your sequential model\n",
    "\n",
    "reg_model2 = Sequential()\n",
    "# use all features as input using input_dim\n",
    "input_dim = X_train.shape[1]\n",
    "\n",
    "# Add first hidden layer\n",
    "reg_model2.add(Dense(100, activation='relu', input_dim=input_dim, name='h1'))\n",
    "reg_model2.add(Dense(100, activation='relu', name='h2'))\n",
    "# Add output layer with 1 node\n",
    "reg_model2.add(Dense(1, activation='linear', name ='output'))\n",
    "\n",
    "\n",
    "# Check summary of network \n",
    "reg_model2.summary()"
   ]
  },
  {
   "cell_type": "markdown",
   "metadata": {
    "id": "POU41zLiei15"
   },
   "source": [
    "## Compiling\n",
    "\n",
    "Compiling the model puts all the pieces together to make it ready to train.  We need to specify:\n",
    "\n",
    "* **Optimizer:** An Adam optimizer is a favorite and often performs well, it's a good place to start.\n",
    "  - Other optimizers : Gradient Descent,Stochastic Gradient Descent,Adagrad,RMSProp\n",
    "* **Loss Function:** 'mse' or mean squared error.  This is the number our model will try to reduce in each epoch.  Since this is a regression model we want our model to minimize the mean squared error.\n",
    "* **Metrics:** 'mae' or mean absolute error.  We can provide a list of any appropriate metrics we want the model to keep track at each epoch.\n",
    "\n",
    "\n"
   ]
  },
  {
   "cell_type": "code",
   "execution_count": 50,
   "metadata": {
    "ExecuteTime": {
     "end_time": "2023-01-31T20:04:24.468820Z",
     "start_time": "2023-01-31T20:04:24.455856Z"
    },
    "executionInfo": {
     "elapsed": 2,
     "status": "ok",
     "timestamp": 1669945064966,
     "user": {
      "displayName": "Josh Johnson",
      "userId": "08606005069848925988"
     },
     "user_tz": 480
    },
    "id": "i9SndlZAei15"
   },
   "outputs": [],
   "source": [
    "# Compile your model.\n",
    "rmse = RootMeanSquaredError(name='rmse')\n",
    "\n",
    "reg_model2.compile(optimizer= 'adam', loss = 'mse', metrics= ['mae', rmse])"
   ]
  },
  {
   "cell_type": "markdown",
   "metadata": {
    "id": "0UcEXp7Wei15"
   },
   "source": [
    "# Training\n",
    "\n",
    "Let's try training our model for 100 few epochs.  Sometimes that is enough, and it will give us an idea whether our model is learning anything."
   ]
  },
  {
   "cell_type": "code",
   "execution_count": 51,
   "metadata": {
    "ExecuteTime": {
     "end_time": "2023-01-31T20:04:29.537260Z",
     "start_time": "2023-01-31T20:04:24.470815Z"
    },
    "colab": {
     "base_uri": "https://localhost:8080/"
    },
    "executionInfo": {
     "elapsed": 7919,
     "status": "ok",
     "timestamp": 1669945073470,
     "user": {
      "displayName": "Josh Johnson",
      "userId": "08606005069848925988"
     },
     "user_tz": 480
    },
    "id": "lazoskQdei16",
    "outputId": "9cd0f098-6fd2-4814-df88-0a46fc3abf2e"
   },
   "outputs": [
    {
     "name": "stdout",
     "output_type": "stream",
     "text": [
      "Epoch 1/100\n",
      "12/12 [==============================] - 1s 19ms/step - loss: 593.5229 - mae: 22.4639 - rmse: 24.3623 - val_loss: 490.8051 - val_mae: 20.4753 - val_rmse: 22.1541\n",
      "Epoch 2/100\n",
      "12/12 [==============================] - 0s 4ms/step - loss: 552.0474 - mae: 21.4749 - rmse: 23.4957 - val_loss: 445.5287 - val_mae: 19.2671 - val_rmse: 21.1076\n",
      "Epoch 3/100\n",
      "12/12 [==============================] - 0s 3ms/step - loss: 491.6236 - mae: 19.9239 - rmse: 22.1726 - val_loss: 374.9682 - val_mae: 17.2202 - val_rmse: 19.3641\n",
      "Epoch 4/100\n",
      "12/12 [==============================] - 0s 3ms/step - loss: 399.4338 - mae: 17.3062 - rmse: 19.9858 - val_loss: 274.4481 - val_mae: 13.9321 - val_rmse: 16.5665\n",
      "Epoch 5/100\n",
      "12/12 [==============================] - 0s 4ms/step - loss: 279.7343 - mae: 13.6299 - rmse: 16.7253 - val_loss: 171.1440 - val_mae: 10.2977 - val_rmse: 13.0822\n",
      "Epoch 6/100\n",
      "12/12 [==============================] - 0s 4ms/step - loss: 177.9235 - mae: 10.5157 - rmse: 13.3388 - val_loss: 122.0163 - val_mae: 8.4979 - val_rmse: 11.0461\n",
      "Epoch 7/100\n",
      "12/12 [==============================] - 0s 3ms/step - loss: 141.5417 - mae: 9.4369 - rmse: 11.8971 - val_loss: 123.8530 - val_mae: 8.6231 - val_rmse: 11.1289\n",
      "Epoch 8/100\n",
      "12/12 [==============================] - 0s 4ms/step - loss: 129.5413 - mae: 9.0493 - rmse: 11.3816 - val_loss: 109.3156 - val_mae: 8.0252 - val_rmse: 10.4554\n",
      "Epoch 9/100\n",
      "12/12 [==============================] - 0s 4ms/step - loss: 116.0346 - mae: 8.4450 - rmse: 10.7719 - val_loss: 95.2120 - val_mae: 7.3831 - val_rmse: 9.7577\n",
      "Epoch 10/100\n",
      "12/12 [==============================] - 0s 6ms/step - loss: 105.5269 - mae: 7.9504 - rmse: 10.2726 - val_loss: 85.5644 - val_mae: 6.9238 - val_rmse: 9.2501\n",
      "Epoch 11/100\n",
      "12/12 [==============================] - 0s 3ms/step - loss: 94.7119 - mae: 7.4648 - rmse: 9.7320 - val_loss: 77.5193 - val_mae: 6.5449 - val_rmse: 8.8045\n",
      "Epoch 12/100\n",
      "12/12 [==============================] - 0s 4ms/step - loss: 84.7628 - mae: 7.0439 - rmse: 9.2067 - val_loss: 69.4732 - val_mae: 6.1353 - val_rmse: 8.3351\n",
      "Epoch 13/100\n",
      "12/12 [==============================] - 0s 4ms/step - loss: 75.1611 - mae: 6.5652 - rmse: 8.6695 - val_loss: 60.9500 - val_mae: 5.6574 - val_rmse: 7.8070\n",
      "Epoch 14/100\n",
      "12/12 [==============================] - 0s 4ms/step - loss: 66.5844 - mae: 6.0472 - rmse: 8.1599 - val_loss: 52.8978 - val_mae: 5.1805 - val_rmse: 7.2731\n",
      "Epoch 15/100\n",
      "12/12 [==============================] - 0s 4ms/step - loss: 58.0887 - mae: 5.6154 - rmse: 7.6216 - val_loss: 47.7230 - val_mae: 4.9512 - val_rmse: 6.9082\n",
      "Epoch 16/100\n",
      "12/12 [==============================] - 0s 4ms/step - loss: 51.3699 - mae: 5.2340 - rmse: 7.1673 - val_loss: 41.4739 - val_mae: 4.5835 - val_rmse: 6.4400\n",
      "Epoch 17/100\n",
      "12/12 [==============================] - 0s 4ms/step - loss: 44.8860 - mae: 4.8292 - rmse: 6.6997 - val_loss: 36.5650 - val_mae: 4.3107 - val_rmse: 6.0469\n",
      "Epoch 18/100\n",
      "12/12 [==============================] - 0s 4ms/step - loss: 40.0694 - mae: 4.4937 - rmse: 6.3300 - val_loss: 32.1681 - val_mae: 3.9974 - val_rmse: 5.6717\n",
      "Epoch 19/100\n",
      "12/12 [==============================] - 0s 4ms/step - loss: 35.8057 - mae: 4.2072 - rmse: 5.9838 - val_loss: 29.7476 - val_mae: 3.9487 - val_rmse: 5.4541\n",
      "Epoch 20/100\n",
      "12/12 [==============================] - 0s 4ms/step - loss: 32.7128 - mae: 4.0341 - rmse: 5.7195 - val_loss: 27.4021 - val_mae: 3.7609 - val_rmse: 5.2347\n",
      "Epoch 21/100\n",
      "12/12 [==============================] - 0s 4ms/step - loss: 30.3239 - mae: 3.8116 - rmse: 5.5067 - val_loss: 25.5353 - val_mae: 3.5479 - val_rmse: 5.0532\n",
      "Epoch 22/100\n",
      "12/12 [==============================] - 0s 4ms/step - loss: 28.4945 - mae: 3.6888 - rmse: 5.3380 - val_loss: 24.5485 - val_mae: 3.4983 - val_rmse: 4.9546\n",
      "Epoch 23/100\n",
      "12/12 [==============================] - 0s 4ms/step - loss: 27.2734 - mae: 3.6098 - rmse: 5.2224 - val_loss: 23.6478 - val_mae: 3.3829 - val_rmse: 4.8629\n",
      "Epoch 24/100\n",
      "12/12 [==============================] - 0s 4ms/step - loss: 26.3943 - mae: 3.5360 - rmse: 5.1375 - val_loss: 23.1004 - val_mae: 3.3439 - val_rmse: 4.8063\n",
      "Epoch 25/100\n",
      "12/12 [==============================] - 0s 3ms/step - loss: 25.6685 - mae: 3.4629 - rmse: 5.0664 - val_loss: 22.5321 - val_mae: 3.1608 - val_rmse: 4.7468\n",
      "Epoch 26/100\n",
      "12/12 [==============================] - 0s 4ms/step - loss: 25.1516 - mae: 3.4283 - rmse: 5.0151 - val_loss: 22.2695 - val_mae: 3.1918 - val_rmse: 4.7191\n",
      "Epoch 27/100\n",
      "12/12 [==============================] - 0s 4ms/step - loss: 24.7150 - mae: 3.4447 - rmse: 4.9714 - val_loss: 22.0435 - val_mae: 3.1959 - val_rmse: 4.6950\n",
      "Epoch 28/100\n",
      "12/12 [==============================] - 0s 4ms/step - loss: 24.4023 - mae: 3.4123 - rmse: 4.9399 - val_loss: 21.7753 - val_mae: 3.1283 - val_rmse: 4.6664\n",
      "Epoch 29/100\n",
      "12/12 [==============================] - 0s 4ms/step - loss: 24.0208 - mae: 3.3553 - rmse: 4.9011 - val_loss: 21.5873 - val_mae: 3.0408 - val_rmse: 4.6462\n",
      "Epoch 30/100\n",
      "12/12 [==============================] - 0s 4ms/step - loss: 23.9660 - mae: 3.3751 - rmse: 4.8955 - val_loss: 21.4247 - val_mae: 3.0280 - val_rmse: 4.6287\n",
      "Epoch 31/100\n",
      "12/12 [==============================] - 0s 4ms/step - loss: 23.7078 - mae: 3.3123 - rmse: 4.8691 - val_loss: 21.3525 - val_mae: 2.9808 - val_rmse: 4.6209\n",
      "Epoch 32/100\n",
      "12/12 [==============================] - 0s 4ms/step - loss: 23.7028 - mae: 3.3689 - rmse: 4.8686 - val_loss: 21.2314 - val_mae: 3.0176 - val_rmse: 4.6078\n",
      "Epoch 33/100\n",
      "12/12 [==============================] - 0s 4ms/step - loss: 23.4540 - mae: 3.2938 - rmse: 4.8429 - val_loss: 21.1764 - val_mae: 2.9573 - val_rmse: 4.6018\n",
      "Epoch 34/100\n",
      "12/12 [==============================] - 0s 4ms/step - loss: 23.2000 - mae: 3.3074 - rmse: 4.8166 - val_loss: 21.0745 - val_mae: 2.9824 - val_rmse: 4.5907\n",
      "Epoch 35/100\n",
      "12/12 [==============================] - 0s 4ms/step - loss: 23.4739 - mae: 3.2838 - rmse: 4.8450 - val_loss: 21.0470 - val_mae: 2.9434 - val_rmse: 4.5877\n",
      "Epoch 36/100\n",
      "12/12 [==============================] - 0s 4ms/step - loss: 23.3468 - mae: 3.3780 - rmse: 4.8318 - val_loss: 20.9397 - val_mae: 2.9987 - val_rmse: 4.5760\n",
      "Epoch 37/100\n",
      "12/12 [==============================] - 0s 4ms/step - loss: 23.5403 - mae: 3.2867 - rmse: 4.8518 - val_loss: 21.0398 - val_mae: 2.8988 - val_rmse: 4.5869\n",
      "Epoch 38/100\n",
      "12/12 [==============================] - 0s 4ms/step - loss: 23.3702 - mae: 3.3918 - rmse: 4.8343 - val_loss: 20.8442 - val_mae: 3.0092 - val_rmse: 4.5655\n",
      "Epoch 39/100\n",
      "12/12 [==============================] - 0s 3ms/step - loss: 22.6451 - mae: 3.2605 - rmse: 4.7587 - val_loss: 21.0442 - val_mae: 2.8785 - val_rmse: 4.5874\n",
      "Epoch 40/100\n",
      "12/12 [==============================] - 0s 4ms/step - loss: 22.7695 - mae: 3.2627 - rmse: 4.7717 - val_loss: 20.7548 - val_mae: 2.9049 - val_rmse: 4.5557\n",
      "Epoch 41/100\n",
      "12/12 [==============================] - 0s 4ms/step - loss: 22.5517 - mae: 3.2498 - rmse: 4.7489 - val_loss: 20.6681 - val_mae: 2.9163 - val_rmse: 4.5462\n",
      "Epoch 42/100\n",
      "12/12 [==============================] - 0s 3ms/step - loss: 22.7795 - mae: 3.3294 - rmse: 4.7728 - val_loss: 20.5671 - val_mae: 2.9187 - val_rmse: 4.5351\n",
      "Epoch 43/100\n",
      "12/12 [==============================] - 0s 4ms/step - loss: 22.5591 - mae: 3.2194 - rmse: 4.7496 - val_loss: 20.9972 - val_mae: 2.8546 - val_rmse: 4.5823\n",
      "Epoch 44/100\n",
      "12/12 [==============================] - 0s 4ms/step - loss: 22.5858 - mae: 3.2825 - rmse: 4.7525 - val_loss: 20.5199 - val_mae: 2.9891 - val_rmse: 4.5299\n",
      "Epoch 45/100\n",
      "12/12 [==============================] - 0s 4ms/step - loss: 22.5541 - mae: 3.2575 - rmse: 4.7491 - val_loss: 20.6402 - val_mae: 2.8486 - val_rmse: 4.5431\n",
      "Epoch 46/100\n",
      "12/12 [==============================] - 0s 4ms/step - loss: 22.2059 - mae: 3.2366 - rmse: 4.7123 - val_loss: 20.4214 - val_mae: 2.8828 - val_rmse: 4.5190\n",
      "Epoch 47/100\n",
      "12/12 [==============================] - 0s 4ms/step - loss: 22.0903 - mae: 3.2338 - rmse: 4.7000 - val_loss: 20.4063 - val_mae: 2.8590 - val_rmse: 4.5173\n",
      "Epoch 48/100\n",
      "12/12 [==============================] - 0s 3ms/step - loss: 22.0299 - mae: 3.2236 - rmse: 4.6936 - val_loss: 20.3537 - val_mae: 2.8466 - val_rmse: 4.5115\n",
      "Epoch 49/100\n",
      "12/12 [==============================] - 0s 4ms/step - loss: 21.9341 - mae: 3.2264 - rmse: 4.6834 - val_loss: 20.2035 - val_mae: 2.8733 - val_rmse: 4.4948\n",
      "Epoch 50/100\n",
      "12/12 [==============================] - 0s 4ms/step - loss: 21.8679 - mae: 3.2254 - rmse: 4.6763 - val_loss: 20.1096 - val_mae: 2.8726 - val_rmse: 4.4844\n",
      "Epoch 51/100\n",
      "12/12 [==============================] - 0s 4ms/step - loss: 21.8863 - mae: 3.2056 - rmse: 4.6783 - val_loss: 20.3769 - val_mae: 2.8129 - val_rmse: 4.5141\n",
      "Epoch 52/100\n",
      "12/12 [==============================] - 0s 4ms/step - loss: 21.7625 - mae: 3.2145 - rmse: 4.6650 - val_loss: 20.0174 - val_mae: 2.9183 - val_rmse: 4.4741\n",
      "Epoch 53/100\n",
      "12/12 [==============================] - 0s 4ms/step - loss: 21.6302 - mae: 3.2089 - rmse: 4.6508 - val_loss: 20.1844 - val_mae: 2.8081 - val_rmse: 4.4927\n",
      "Epoch 54/100\n",
      "12/12 [==============================] - 0s 3ms/step - loss: 21.6560 - mae: 3.1829 - rmse: 4.6536 - val_loss: 19.8641 - val_mae: 2.8699 - val_rmse: 4.4569\n",
      "Epoch 55/100\n",
      "12/12 [==============================] - 0s 4ms/step - loss: 21.5335 - mae: 3.1984 - rmse: 4.6404 - val_loss: 20.3332 - val_mae: 2.7923 - val_rmse: 4.5092\n",
      "Epoch 56/100\n",
      "12/12 [==============================] - 0s 3ms/step - loss: 21.4161 - mae: 3.1367 - rmse: 4.6277 - val_loss: 19.7568 - val_mae: 2.8596 - val_rmse: 4.4449\n",
      "Epoch 57/100\n",
      "12/12 [==============================] - 0s 4ms/step - loss: 21.3138 - mae: 3.2182 - rmse: 4.6167 - val_loss: 19.7206 - val_mae: 2.8336 - val_rmse: 4.4408\n",
      "Epoch 58/100\n",
      "12/12 [==============================] - 0s 4ms/step - loss: 21.4402 - mae: 3.1344 - rmse: 4.6304 - val_loss: 19.8138 - val_mae: 2.7937 - val_rmse: 4.4513\n",
      "Epoch 59/100\n",
      "12/12 [==============================] - 0s 3ms/step - loss: 21.2342 - mae: 3.1981 - rmse: 4.6081 - val_loss: 19.5984 - val_mae: 2.8270 - val_rmse: 4.4270\n",
      "Epoch 60/100\n",
      "12/12 [==============================] - 0s 4ms/step - loss: 20.9734 - mae: 3.1512 - rmse: 4.5797 - val_loss: 19.5977 - val_mae: 2.8018 - val_rmse: 4.4269\n",
      "Epoch 61/100\n",
      "12/12 [==============================] - 0s 4ms/step - loss: 21.0094 - mae: 3.1721 - rmse: 4.5836 - val_loss: 19.5466 - val_mae: 2.8013 - val_rmse: 4.4212\n",
      "Epoch 62/100\n",
      "12/12 [==============================] - 0s 4ms/step - loss: 20.9750 - mae: 3.1094 - rmse: 4.5799 - val_loss: 19.5687 - val_mae: 2.7883 - val_rmse: 4.4236\n",
      "Epoch 63/100\n",
      "12/12 [==============================] - 0s 4ms/step - loss: 20.9564 - mae: 3.1416 - rmse: 4.5778 - val_loss: 19.4968 - val_mae: 2.7868 - val_rmse: 4.4155\n",
      "Epoch 64/100\n",
      "12/12 [==============================] - 0s 3ms/step - loss: 20.7266 - mae: 3.1273 - rmse: 4.5526 - val_loss: 19.3059 - val_mae: 2.8477 - val_rmse: 4.3939\n",
      "Epoch 65/100\n",
      "12/12 [==============================] - 0s 4ms/step - loss: 20.6113 - mae: 3.1281 - rmse: 4.5400 - val_loss: 19.4522 - val_mae: 2.7718 - val_rmse: 4.4105\n",
      "Epoch 66/100\n",
      "12/12 [==============================] - 0s 4ms/step - loss: 20.7249 - mae: 3.1477 - rmse: 4.5525 - val_loss: 19.2946 - val_mae: 2.7959 - val_rmse: 4.3926\n",
      "Epoch 67/100\n",
      "12/12 [==============================] - 0s 3ms/step - loss: 20.8314 - mae: 3.1044 - rmse: 4.5641 - val_loss: 19.2920 - val_mae: 2.7745 - val_rmse: 4.3923\n",
      "Epoch 68/100\n",
      "12/12 [==============================] - 0s 4ms/step - loss: 20.5519 - mae: 3.1507 - rmse: 4.5334 - val_loss: 19.1197 - val_mae: 2.8223 - val_rmse: 4.3726\n",
      "Epoch 69/100\n",
      "12/12 [==============================] - 0s 4ms/step - loss: 20.9755 - mae: 3.0982 - rmse: 4.5799 - val_loss: 19.4325 - val_mae: 2.7599 - val_rmse: 4.4082\n",
      "Epoch 70/100\n",
      "12/12 [==============================] - 0s 4ms/step - loss: 20.7054 - mae: 3.1745 - rmse: 4.5503 - val_loss: 19.0542 - val_mae: 2.9046 - val_rmse: 4.3651\n",
      "Epoch 71/100\n",
      "12/12 [==============================] - 0s 4ms/step - loss: 20.1405 - mae: 3.0923 - rmse: 4.4878 - val_loss: 19.3800 - val_mae: 2.7428 - val_rmse: 4.4023\n",
      "Epoch 72/100\n",
      "12/12 [==============================] - 0s 4ms/step - loss: 20.2107 - mae: 3.0448 - rmse: 4.4956 - val_loss: 18.9516 - val_mae: 2.8287 - val_rmse: 4.3533\n",
      "Epoch 73/100\n",
      "12/12 [==============================] - 0s 4ms/step - loss: 20.3183 - mae: 3.1535 - rmse: 4.5076 - val_loss: 18.9794 - val_mae: 2.7872 - val_rmse: 4.3565\n",
      "Epoch 74/100\n",
      "12/12 [==============================] - 0s 4ms/step - loss: 20.3154 - mae: 3.0659 - rmse: 4.5073 - val_loss: 18.8483 - val_mae: 2.8091 - val_rmse: 4.3415\n",
      "Epoch 75/100\n",
      "12/12 [==============================] - 0s 4ms/step - loss: 20.1680 - mae: 3.1121 - rmse: 4.4909 - val_loss: 18.9710 - val_mae: 2.7563 - val_rmse: 4.3556\n",
      "Epoch 76/100\n",
      "12/12 [==============================] - 0s 3ms/step - loss: 20.1957 - mae: 3.0556 - rmse: 4.4940 - val_loss: 18.8042 - val_mae: 2.8034 - val_rmse: 4.3364\n",
      "Epoch 77/100\n",
      "12/12 [==============================] - 0s 4ms/step - loss: 19.8192 - mae: 3.0728 - rmse: 4.4519 - val_loss: 18.8539 - val_mae: 2.7621 - val_rmse: 4.3421\n",
      "Epoch 78/100\n",
      "12/12 [==============================] - 0s 4ms/step - loss: 19.7122 - mae: 3.0365 - rmse: 4.4398 - val_loss: 18.7454 - val_mae: 2.7640 - val_rmse: 4.3296\n",
      "Epoch 79/100\n",
      "12/12 [==============================] - 0s 4ms/step - loss: 19.6623 - mae: 3.0525 - rmse: 4.4342 - val_loss: 18.7207 - val_mae: 2.7751 - val_rmse: 4.3267\n",
      "Epoch 80/100\n",
      "12/12 [==============================] - 0s 4ms/step - loss: 19.6088 - mae: 3.0301 - rmse: 4.4282 - val_loss: 18.6587 - val_mae: 2.7811 - val_rmse: 4.3196\n",
      "Epoch 81/100\n",
      "12/12 [==============================] - 0s 3ms/step - loss: 19.5573 - mae: 3.0449 - rmse: 4.4224 - val_loss: 18.6078 - val_mae: 2.7861 - val_rmse: 4.3137\n",
      "Epoch 82/100\n",
      "12/12 [==============================] - 0s 4ms/step - loss: 19.6499 - mae: 3.0507 - rmse: 4.4328 - val_loss: 18.8555 - val_mae: 2.7239 - val_rmse: 4.3423\n",
      "Epoch 83/100\n",
      "12/12 [==============================] - 0s 4ms/step - loss: 19.5847 - mae: 3.0392 - rmse: 4.4255 - val_loss: 18.6702 - val_mae: 2.7608 - val_rmse: 4.3209\n",
      "Epoch 84/100\n",
      "12/12 [==============================] - 0s 3ms/step - loss: 19.7536 - mae: 3.0860 - rmse: 4.4445 - val_loss: 18.5693 - val_mae: 2.7462 - val_rmse: 4.3092\n",
      "Epoch 85/100\n",
      "12/12 [==============================] - 0s 4ms/step - loss: 19.3929 - mae: 2.9819 - rmse: 4.4037 - val_loss: 19.0275 - val_mae: 2.7156 - val_rmse: 4.3621\n",
      "Epoch 86/100\n",
      "12/12 [==============================] - 0s 4ms/step - loss: 19.4034 - mae: 3.0602 - rmse: 4.4049 - val_loss: 18.3902 - val_mae: 2.8097 - val_rmse: 4.2884\n",
      "Epoch 87/100\n",
      "12/12 [==============================] - 0s 4ms/step - loss: 19.1118 - mae: 2.9918 - rmse: 4.3717 - val_loss: 18.7366 - val_mae: 2.7209 - val_rmse: 4.3286\n",
      "Epoch 88/100\n",
      "12/12 [==============================] - 0s 3ms/step - loss: 19.0665 - mae: 2.9758 - rmse: 4.3665 - val_loss: 18.3474 - val_mae: 2.7677 - val_rmse: 4.2834\n",
      "Epoch 89/100\n",
      "12/12 [==============================] - 0s 4ms/step - loss: 19.2455 - mae: 3.0477 - rmse: 4.3870 - val_loss: 18.4558 - val_mae: 2.7254 - val_rmse: 4.2960\n",
      "Epoch 90/100\n",
      "12/12 [==============================] - 0s 4ms/step - loss: 19.0016 - mae: 2.9673 - rmse: 4.3591 - val_loss: 18.3380 - val_mae: 2.7418 - val_rmse: 4.2823\n",
      "Epoch 91/100\n",
      "12/12 [==============================] - 0s 3ms/step - loss: 19.0414 - mae: 2.9954 - rmse: 4.3636 - val_loss: 18.2020 - val_mae: 2.7932 - val_rmse: 4.2664\n",
      "Epoch 92/100\n",
      "12/12 [==============================] - 0s 4ms/step - loss: 18.8992 - mae: 3.0052 - rmse: 4.3473 - val_loss: 18.2866 - val_mae: 2.7291 - val_rmse: 4.2763\n",
      "Epoch 93/100\n",
      "12/12 [==============================] - 0s 4ms/step - loss: 18.8359 - mae: 2.9462 - rmse: 4.3400 - val_loss: 18.2385 - val_mae: 2.7401 - val_rmse: 4.2707\n",
      "Epoch 94/100\n",
      "12/12 [==============================] - 0s 4ms/step - loss: 18.7729 - mae: 2.9825 - rmse: 4.3328 - val_loss: 18.2554 - val_mae: 2.7187 - val_rmse: 4.2726\n",
      "Epoch 95/100\n",
      "12/12 [==============================] - 0s 4ms/step - loss: 18.7457 - mae: 2.9891 - rmse: 4.3296 - val_loss: 18.2081 - val_mae: 2.7179 - val_rmse: 4.2671\n",
      "Epoch 96/100\n",
      "12/12 [==============================] - 0s 4ms/step - loss: 18.7486 - mae: 2.9468 - rmse: 4.3300 - val_loss: 18.0788 - val_mae: 2.7483 - val_rmse: 4.2519\n",
      "Epoch 97/100\n",
      "12/12 [==============================] - 0s 4ms/step - loss: 18.8325 - mae: 3.0270 - rmse: 4.3396 - val_loss: 18.0901 - val_mae: 2.7217 - val_rmse: 4.2532\n"
     ]
    },
    {
     "name": "stdout",
     "output_type": "stream",
     "text": [
      "Epoch 98/100\n",
      "12/12 [==============================] - 0s 4ms/step - loss: 18.4761 - mae: 2.9381 - rmse: 4.2984 - val_loss: 18.0399 - val_mae: 2.7190 - val_rmse: 4.2473\n",
      "Epoch 99/100\n",
      "12/12 [==============================] - 0s 3ms/step - loss: 18.7511 - mae: 2.9983 - rmse: 4.3303 - val_loss: 18.0724 - val_mae: 2.7047 - val_rmse: 4.2512\n",
      "Epoch 100/100\n",
      "12/12 [==============================] - 0s 4ms/step - loss: 18.5854 - mae: 2.9253 - rmse: 4.3111 - val_loss: 17.8739 - val_mae: 2.7278 - val_rmse: 4.2278\n"
     ]
    }
   ],
   "source": [
    "# Fit your model\n",
    "\n",
    "history = reg_model2.fit(X_train, y_train,\n",
    "                        validation_data = (X_test, y_test),\n",
    "                        epochs = 100)\n"
   ]
  },
  {
   "cell_type": "code",
   "execution_count": 52,
   "metadata": {
    "ExecuteTime": {
     "end_time": "2023-01-31T20:04:30.002843Z",
     "start_time": "2023-01-31T20:04:29.539254Z"
    },
    "colab": {
     "base_uri": "https://localhost:8080/",
     "height": 809
    },
    "executionInfo": {
     "elapsed": 556,
     "status": "ok",
     "timestamp": 1669945074017,
     "user": {
      "displayName": "Josh Johnson",
      "userId": "08606005069848925988"
     },
     "user_tz": 480
    },
    "id": "m7iBhygBei16",
    "outputId": "f043e3fc-059e-4919-8fdd-858747484838"
   },
   "outputs": [
    {
     "data": {
      "image/png": "[encoded data removed]",
      "text/plain": [
       "<Figure size 640x480 with 1 Axes>"
      ]
     },
     "metadata": {},
     "output_type": "display_data"
    },
    {
     "data": {
      "image/png": "[encoded data removed]",
      "text/plain": [
       "<Figure size 640x480 with 1 Axes>"
      ]
     },
     "metadata": {},
     "output_type": "display_data"
    },
    {
     "data": {
      "image/png": "[encoded data removed]",
      "text/plain": [
       "<Figure size 640x480 with 1 Axes>"
      ]
     },
     "metadata": {},
     "output_type": "display_data"
    }
   ],
   "source": [
    "# Apply the custom function to see how your model is doing\n",
    "plot_history(history)"
   ]
  },
  {
   "cell_type": "markdown",
   "metadata": {
    "id": "qvXfpgceei16"
   },
   "source": [
    "## Evaluation\n"
   ]
  },
  {
   "cell_type": "code",
   "execution_count": 53,
   "metadata": {
    "ExecuteTime": {
     "end_time": "2023-01-31T20:04:30.177398Z",
     "start_time": "2023-01-31T20:04:30.003869Z"
    },
    "colab": {
     "base_uri": "https://localhost:8080/"
    },
    "executionInfo": {
     "elapsed": 243,
     "status": "ok",
     "timestamp": 1669944762292,
     "user": {
      "displayName": "Josh Johnson",
      "userId": "08606005069848925988"
     },
     "user_tz": 480
    },
    "id": "t5gjZb1oei16",
    "outputId": "25b6d584-eb7e-4251-82a4-dbe555a4ad74"
   },
   "outputs": [
    {
     "name": "stdout",
     "output_type": "stream",
     "text": [
      "12/12 [==============================] - 0s 907us/step\n",
      "4/4 [==============================] - 0s 997us/step\n"
     ]
    },
    {
     "data": {
      "text/html": [
       "<div>\n",
       "<style scoped>\n",
       "    .dataframe tbody tr th:only-of-type {\n",
       "        vertical-align: middle;\n",
       "    }\n",
       "\n",
       "    .dataframe tbody tr th {\n",
       "        vertical-align: top;\n",
       "    }\n",
       "\n",
       "    .dataframe thead th {\n",
       "        text-align: right;\n",
       "    }\n",
       "</style>\n",
       "<table border=\"1\" class=\"dataframe\">\n",
       "  <thead>\n",
       "    <tr style=\"text-align: right;\">\n",
       "      <th></th>\n",
       "      <th>MAE</th>\n",
       "      <th>RMSE</th>\n",
       "      <th>R2</th>\n",
       "    </tr>\n",
       "  </thead>\n",
       "  <tbody>\n",
       "    <tr>\n",
       "      <th>reg_model1 Train</th>\n",
       "      <td>3.941398</td>\n",
       "      <td>5.606805</td>\n",
       "      <td>0.645516</td>\n",
       "    </tr>\n",
       "    <tr>\n",
       "      <th>reg_model1 test</th>\n",
       "      <td>3.775498</td>\n",
       "      <td>5.566272</td>\n",
       "      <td>0.557552</td>\n",
       "    </tr>\n",
       "    <tr>\n",
       "      <th>reg_model2 Train</th>\n",
       "      <td>2.945042</td>\n",
       "      <td>4.275885</td>\n",
       "      <td>0.793834</td>\n",
       "    </tr>\n",
       "    <tr>\n",
       "      <th>reg_model2 test</th>\n",
       "      <td>2.727790</td>\n",
       "      <td>4.227755</td>\n",
       "      <td>0.744757</td>\n",
       "    </tr>\n",
       "  </tbody>\n",
       "</table>\n",
       "</div>"
      ],
      "text/plain": [
       "                       MAE      RMSE        R2\n",
       "reg_model1 Train  3.941398  5.606805  0.645516\n",
       "reg_model1 test   3.775498  5.566272  0.557552\n",
       "reg_model2 Train  2.945042  4.275885  0.793834\n",
       "reg_model2 test   2.727790  4.227755  0.744757"
      ]
     },
     "execution_count": 53,
     "metadata": {},
     "output_type": "execute_result"
    }
   ],
   "source": [
    "train_scores = eval_regression(reg_model2, \n",
    "                         X_train, \n",
    "                         y_train, \n",
    "                         name='reg_model2 Train')\n",
    "test_scores = eval_regression(reg_model2, \n",
    "                                       X_test, \n",
    "                                       y_test, \n",
    "                                       name='reg_model2 test')\n",
    "scores = pd.concat([scores, train_scores, test_scores])\n",
    "scores"
   ]
  },
  {
   "cell_type": "code",
   "execution_count": null,
   "metadata": {
    "id": "vRy67AZrfJHo"
   },
   "outputs": [],
   "source": []
  },
  {
   "cell_type": "code",
   "execution_count": 54,
   "metadata": {
    "ExecuteTime": {
     "end_time": "2023-01-31T20:04:30.257185Z",
     "start_time": "2023-01-31T20:04:30.179393Z"
    },
    "colab": {
     "base_uri": "https://localhost:8080/"
    },
    "executionInfo": {
     "elapsed": 206,
     "status": "ok",
     "timestamp": 1669945258488,
     "user": {
      "displayName": "Josh Johnson",
      "userId": "08606005069848925988"
     },
     "user_tz": 480
    },
    "id": "AyzQS6bEfJpv",
    "outputId": "56a18a94-24f8-494d-8634-ed95e8d80b1f"
   },
   "outputs": [
    {
     "name": "stdout",
     "output_type": "stream",
     "text": [
      "Model: \"sequential\"\n",
      "_________________________________________________________________\n",
      " Layer (type)                Output Shape              Param #   \n",
      "=================================================================\n",
      " h1 (Dense)                  (None, 10)                70        \n",
      "                                                                 \n",
      " h2 (Dense)                  (None, 10)                110       \n",
      "                                                                 \n",
      " h3 (Dense)                  (None, 10)                110       \n",
      "                                                                 \n",
      " h4 (Dense)                  (None, 10)                110       \n",
      "                                                                 \n",
      " output (Dense)              (None, 1)                 11        \n",
      "                                                                 \n",
      "=================================================================\n",
      "Total params: 411\n",
      "Trainable params: 411\n",
      "Non-trainable params: 0\n",
      "_________________________________________________________________\n"
     ]
    }
   ],
   "source": [
    "# Reset Random seed for consistency\n",
    "keras.backend.clear_session()\n",
    "np.random.seed(42)\n",
    "tf.random.set_seed(42)\n",
    "\n",
    "\n",
    "# Instantiate your sequential model\n",
    "\n",
    "reg_model3 = Sequential()\n",
    "# use all features as input using input_dim\n",
    "input_dim = X_train.shape[1]\n",
    "\n",
    "# Add first hidden layer\n",
    "reg_model3.add(Dense(10, activation='relu', input_dim=input_dim, name='h1'))\n",
    "reg_model3.add(Dense(10, activation='relu', name='h2'))\n",
    "reg_model3.add(Dense(10, activation='relu', name='h3'))\n",
    "reg_model3.add(Dense(10, activation='relu', name='h4'))\n",
    "\n",
    "# Add output layer with 1 node\n",
    "reg_model3.add(Dense(1, activation='linear', name ='output'))\n",
    "\n",
    "\n",
    "# Check summary of network \n",
    "reg_model3.summary()\n",
    "\n"
   ]
  },
  {
   "cell_type": "markdown",
   "metadata": {
    "id": "iLeEOQQDfJpw"
   },
   "source": [
    "## Compiling\n",
    "\n",
    "Compiling the model puts all the pieces together to make it ready to train.  We need to specify:\n",
    "\n",
    "* **Optimizer:** An Adam optimizer is a favorite and often performs well, it's a good place to start.\n",
    "  - Other optimizers : Gradient Descent,Stochastic Gradient Descent,Adagrad,RMSProp\n",
    "* **Loss Function:** 'mse' or mean squared error.  This is the number our model will try to reduce in each epoch.  Since this is a regression model we want our model to minimize the mean squared error.\n",
    "* **Metrics:** 'mae' or mean absolute error.  We can provide a list of any appropriate metrics we want the model to keep track at each epoch.\n",
    "\n",
    "\n"
   ]
  },
  {
   "cell_type": "code",
   "execution_count": 55,
   "metadata": {
    "ExecuteTime": {
     "end_time": "2023-01-31T20:04:30.287105Z",
     "start_time": "2023-01-31T20:04:30.259180Z"
    },
    "executionInfo": {
     "elapsed": 2,
     "status": "ok",
     "timestamp": 1669945260718,
     "user": {
      "displayName": "Josh Johnson",
      "userId": "08606005069848925988"
     },
     "user_tz": 480
    },
    "id": "tUNKLuoffJpw"
   },
   "outputs": [],
   "source": [
    "# Compile your model.\n",
    "rmse = RootMeanSquaredError(name='rmse')\n",
    "\n",
    "reg_model3.compile(optimizer= 'adam', loss = 'mse', metrics= ['mae', rmse])"
   ]
  },
  {
   "cell_type": "markdown",
   "metadata": {
    "id": "wMP3bA89fJpw"
   },
   "source": [
    "# Training\n",
    "\n",
    "Let's try training our model for 100 few epochs.  Sometimes that is enough, and it will give us an idea whether our model is learning anything."
   ]
  },
  {
   "cell_type": "code",
   "execution_count": 56,
   "metadata": {
    "ExecuteTime": {
     "end_time": "2023-01-31T20:04:35.545026Z",
     "start_time": "2023-01-31T20:04:30.289100Z"
    },
    "colab": {
     "base_uri": "https://localhost:8080/"
    },
    "executionInfo": {
     "elapsed": 8159,
     "status": "ok",
     "timestamp": 1669945269874,
     "user": {
      "displayName": "Josh Johnson",
      "userId": "08606005069848925988"
     },
     "user_tz": 480
    },
    "id": "DCd3kLrNfJpw",
    "outputId": "ea0d6cc3-e85e-4e04-99fb-d1c615174842"
   },
   "outputs": [
    {
     "name": "stdout",
     "output_type": "stream",
     "text": [
      "Epoch 1/100\n",
      "12/12 [==============================] - 1s 21ms/step - loss: 603.7324 - mae: 22.7049 - rmse: 24.5710 - val_loss: 514.8127 - val_mae: 21.0927 - val_rmse: 22.6895\n",
      "Epoch 2/100\n",
      "12/12 [==============================] - 0s 4ms/step - loss: 594.2388 - mae: 22.4856 - rmse: 24.3770 - val_loss: 505.2496 - val_mae: 20.8484 - val_rmse: 22.4778\n",
      "Epoch 3/100\n",
      "12/12 [==============================] - 0s 3ms/step - loss: 583.3914 - mae: 22.2264 - rmse: 24.1535 - val_loss: 493.5770 - val_mae: 20.5514 - val_rmse: 22.2166\n",
      "Epoch 4/100\n",
      "12/12 [==============================] - 0s 4ms/step - loss: 569.1133 - mae: 21.8853 - rmse: 23.8561 - val_loss: 477.2758 - val_mae: 20.1314 - val_rmse: 21.8466\n",
      "Epoch 5/100\n",
      "12/12 [==============================] - 0s 4ms/step - loss: 548.8754 - mae: 21.3975 - rmse: 23.4281 - val_loss: 454.6926 - val_mae: 19.5310 - val_rmse: 21.3235\n",
      "Epoch 6/100\n",
      "12/12 [==============================] - 0s 4ms/step - loss: 520.2674 - mae: 20.6840 - rmse: 22.8094 - val_loss: 422.8167 - val_mae: 18.6470 - val_rmse: 20.5625\n",
      "Epoch 7/100\n",
      "12/12 [==============================] - 0s 4ms/step - loss: 480.3964 - mae: 19.6296 - rmse: 21.9179 - val_loss: 378.7956 - val_mae: 17.3486 - val_rmse: 19.4627\n",
      "Epoch 8/100\n",
      "12/12 [==============================] - 0s 4ms/step - loss: 426.3920 - mae: 18.1142 - rmse: 20.6493 - val_loss: 321.7974 - val_mae: 15.5336 - val_rmse: 17.9387\n",
      "Epoch 9/100\n",
      "12/12 [==============================] - 0s 4ms/step - loss: 358.0741 - mae: 16.0962 - rmse: 18.9228 - val_loss: 254.5967 - val_mae: 13.2030 - val_rmse: 15.9561\n",
      "Epoch 10/100\n",
      "12/12 [==============================] - 0s 3ms/step - loss: 279.7255 - mae: 13.5467 - rmse: 16.7250 - val_loss: 187.0779 - val_mae: 10.7432 - val_rmse: 13.6776\n",
      "Epoch 11/100\n",
      "12/12 [==============================] - 0s 4ms/step - loss: 205.6715 - mae: 11.1712 - rmse: 14.3413 - val_loss: 137.4618 - val_mae: 9.0701 - val_rmse: 11.7244\n",
      "Epoch 12/100\n",
      "12/12 [==============================] - 0s 6ms/step - loss: 156.4794 - mae: 9.7060 - rmse: 12.5092 - val_loss: 125.2609 - val_mae: 8.6136 - val_rmse: 11.1920\n",
      "Epoch 13/100\n",
      "12/12 [==============================] - 0s 8ms/step - loss: 144.5354 - mae: 9.4482 - rmse: 12.0223 - val_loss: 129.1050 - val_mae: 8.8190 - val_rmse: 11.3624\n",
      "Epoch 14/100\n",
      "12/12 [==============================] - 0s 4ms/step - loss: 140.3949 - mae: 9.3205 - rmse: 11.8488 - val_loss: 121.2505 - val_mae: 8.5106 - val_rmse: 11.0114\n",
      "Epoch 15/100\n",
      "12/12 [==============================] - 0s 4ms/step - loss: 135.0207 - mae: 9.0955 - rmse: 11.6198 - val_loss: 116.3079 - val_mae: 8.3115 - val_rmse: 10.7846\n",
      "Epoch 16/100\n",
      "12/12 [==============================] - 0s 4ms/step - loss: 131.1348 - mae: 8.9359 - rmse: 11.4514 - val_loss: 112.8517 - val_mae: 8.1764 - val_rmse: 10.6232\n",
      "Epoch 17/100\n",
      "12/12 [==============================] - 0s 4ms/step - loss: 127.3441 - mae: 8.8009 - rmse: 11.2847 - val_loss: 110.4112 - val_mae: 8.0862 - val_rmse: 10.5077\n",
      "Epoch 18/100\n",
      "12/12 [==============================] - 0s 4ms/step - loss: 123.7034 - mae: 8.6524 - rmse: 11.1222 - val_loss: 106.0997 - val_mae: 7.9026 - val_rmse: 10.3005\n",
      "Epoch 19/100\n",
      "12/12 [==============================] - 0s 4ms/step - loss: 120.0123 - mae: 8.5176 - rmse: 10.9550 - val_loss: 103.9021 - val_mae: 7.8167 - val_rmse: 10.1932\n",
      "Epoch 20/100\n",
      "12/12 [==============================] - 0s 4ms/step - loss: 116.3588 - mae: 8.3836 - rmse: 10.7870 - val_loss: 101.0733 - val_mae: 7.6971 - val_rmse: 10.0535\n",
      "Epoch 21/100\n",
      "12/12 [==============================] - 0s 4ms/step - loss: 112.8467 - mae: 8.2265 - rmse: 10.6229 - val_loss: 96.8567 - val_mae: 7.5080 - val_rmse: 9.8416\n",
      "Epoch 22/100\n",
      "12/12 [==============================] - 0s 4ms/step - loss: 109.2719 - mae: 8.0686 - rmse: 10.4533 - val_loss: 94.5072 - val_mae: 7.4110 - val_rmse: 9.7215\n",
      "Epoch 23/100\n",
      "12/12 [==============================] - 0s 4ms/step - loss: 105.7265 - mae: 7.9362 - rmse: 10.2823 - val_loss: 91.7993 - val_mae: 7.2970 - val_rmse: 9.5812\n",
      "Epoch 24/100\n",
      "12/12 [==============================] - 0s 4ms/step - loss: 102.1884 - mae: 7.7980 - rmse: 10.1088 - val_loss: 88.9577 - val_mae: 7.1755 - val_rmse: 9.4317\n",
      "Epoch 25/100\n",
      "12/12 [==============================] - 0s 4ms/step - loss: 98.5457 - mae: 7.6246 - rmse: 9.9270 - val_loss: 84.3643 - val_mae: 6.9448 - val_rmse: 9.1850\n",
      "Epoch 26/100\n",
      "12/12 [==============================] - 0s 4ms/step - loss: 94.2846 - mae: 7.4443 - rmse: 9.7100 - val_loss: 80.7254 - val_mae: 6.7753 - val_rmse: 8.9847\n",
      "Epoch 27/100\n",
      "12/12 [==============================] - 0s 4ms/step - loss: 90.0809 - mae: 7.2592 - rmse: 9.4911 - val_loss: 77.8878 - val_mae: 6.6601 - val_rmse: 8.8254\n",
      "Epoch 28/100\n",
      "12/12 [==============================] - 0s 4ms/step - loss: 86.1256 - mae: 7.0802 - rmse: 9.2804 - val_loss: 74.0595 - val_mae: 6.4682 - val_rmse: 8.6058\n",
      "Epoch 29/100\n",
      "12/12 [==============================] - 0s 4ms/step - loss: 81.6728 - mae: 6.8945 - rmse: 9.0373 - val_loss: 71.0108 - val_mae: 6.3304 - val_rmse: 8.4268\n",
      "Epoch 30/100\n",
      "12/12 [==============================] - 0s 4ms/step - loss: 78.0135 - mae: 6.7480 - rmse: 8.8325 - val_loss: 67.4063 - val_mae: 6.1538 - val_rmse: 8.2101\n",
      "Epoch 31/100\n",
      "12/12 [==============================] - 0s 3ms/step - loss: 73.4699 - mae: 6.4811 - rmse: 8.5715 - val_loss: 62.2121 - val_mae: 5.8280 - val_rmse: 7.8875\n",
      "Epoch 32/100\n",
      "12/12 [==============================] - 0s 4ms/step - loss: 69.0700 - mae: 6.2515 - rmse: 8.3108 - val_loss: 59.2737 - val_mae: 5.7039 - val_rmse: 7.6989\n",
      "Epoch 33/100\n",
      "12/12 [==============================] - 0s 4ms/step - loss: 64.9216 - mae: 6.0548 - rmse: 8.0574 - val_loss: 55.6439 - val_mae: 5.5193 - val_rmse: 7.4595\n",
      "Epoch 34/100\n",
      "12/12 [==============================] - 0s 4ms/step - loss: 60.4108 - mae: 5.8113 - rmse: 7.7724 - val_loss: 51.5725 - val_mae: 5.2828 - val_rmse: 7.1814\n",
      "Epoch 35/100\n",
      "12/12 [==============================] - 0s 4ms/step - loss: 56.6884 - mae: 5.5400 - rmse: 7.5292 - val_loss: 47.4413 - val_mae: 5.0031 - val_rmse: 6.8878\n",
      "Epoch 36/100\n",
      "12/12 [==============================] - 0s 4ms/step - loss: 52.2156 - mae: 5.3698 - rmse: 7.2260 - val_loss: 45.2003 - val_mae: 4.9745 - val_rmse: 6.7231\n",
      "Epoch 37/100\n",
      "12/12 [==============================] - 0s 4ms/step - loss: 48.2806 - mae: 5.1091 - rmse: 6.9484 - val_loss: 40.7513 - val_mae: 4.6100 - val_rmse: 6.3837\n",
      "Epoch 38/100\n",
      "12/12 [==============================] - 0s 4ms/step - loss: 44.5105 - mae: 4.9239 - rmse: 6.6716 - val_loss: 38.1676 - val_mae: 4.4986 - val_rmse: 6.1780\n",
      "Epoch 39/100\n",
      "12/12 [==============================] - 0s 4ms/step - loss: 40.7224 - mae: 4.6184 - rmse: 6.3814 - val_loss: 34.0998 - val_mae: 4.0612 - val_rmse: 5.8395\n",
      "Epoch 40/100\n",
      "12/12 [==============================] - 0s 4ms/step - loss: 37.2300 - mae: 4.3729 - rmse: 6.1016 - val_loss: 31.4011 - val_mae: 3.8700 - val_rmse: 5.6037\n",
      "Epoch 41/100\n",
      "12/12 [==============================] - 0s 4ms/step - loss: 34.3862 - mae: 4.1965 - rmse: 5.8640 - val_loss: 29.9154 - val_mae: 3.8397 - val_rmse: 5.4695\n",
      "Epoch 42/100\n",
      "12/12 [==============================] - 0s 3ms/step - loss: 32.6682 - mae: 4.1121 - rmse: 5.7156 - val_loss: 27.9130 - val_mae: 3.6199 - val_rmse: 5.2833\n",
      "Epoch 43/100\n",
      "12/12 [==============================] - 0s 4ms/step - loss: 31.0015 - mae: 3.8884 - rmse: 5.5679 - val_loss: 26.4471 - val_mae: 3.4122 - val_rmse: 5.1427\n",
      "Epoch 44/100\n",
      "12/12 [==============================] - 0s 4ms/step - loss: 30.0191 - mae: 3.8507 - rmse: 5.4790 - val_loss: 26.1811 - val_mae: 3.5701 - val_rmse: 5.1167\n",
      "Epoch 45/100\n",
      "12/12 [==============================] - 0s 3ms/step - loss: 29.2595 - mae: 3.7395 - rmse: 5.4092 - val_loss: 24.8357 - val_mae: 3.3052 - val_rmse: 4.9835\n",
      "Epoch 46/100\n",
      "12/12 [==============================] - 0s 4ms/step - loss: 28.2339 - mae: 3.6637 - rmse: 5.3136 - val_loss: 24.4677 - val_mae: 3.3140 - val_rmse: 4.9465\n",
      "Epoch 47/100\n",
      "12/12 [==============================] - 0s 4ms/step - loss: 27.8333 - mae: 3.6581 - rmse: 5.2757 - val_loss: 24.0058 - val_mae: 3.2610 - val_rmse: 4.8996\n",
      "Epoch 48/100\n",
      "12/12 [==============================] - 0s 3ms/step - loss: 27.3816 - mae: 3.6141 - rmse: 5.2327 - val_loss: 23.5801 - val_mae: 3.1935 - val_rmse: 4.8559\n",
      "Epoch 49/100\n",
      "12/12 [==============================] - 0s 4ms/step - loss: 27.0303 - mae: 3.5771 - rmse: 5.1991 - val_loss: 23.3242 - val_mae: 3.1942 - val_rmse: 4.8295\n",
      "Epoch 50/100\n",
      "12/12 [==============================] - 0s 3ms/step - loss: 26.7044 - mae: 3.5963 - rmse: 5.1676 - val_loss: 23.0998 - val_mae: 3.1986 - val_rmse: 4.8062\n",
      "Epoch 51/100\n",
      "12/12 [==============================] - 0s 4ms/step - loss: 26.5711 - mae: 3.5340 - rmse: 5.1547 - val_loss: 22.8301 - val_mae: 3.0656 - val_rmse: 4.7781\n",
      "Epoch 52/100\n",
      "12/12 [==============================] - 0s 4ms/step - loss: 26.2574 - mae: 3.5285 - rmse: 5.1242 - val_loss: 22.7870 - val_mae: 3.1915 - val_rmse: 4.7736\n",
      "Epoch 53/100\n",
      "12/12 [==============================] - 0s 3ms/step - loss: 25.9804 - mae: 3.5257 - rmse: 5.0971 - val_loss: 22.3916 - val_mae: 3.0408 - val_rmse: 4.7320\n",
      "Epoch 54/100\n",
      "12/12 [==============================] - 0s 4ms/step - loss: 25.8883 - mae: 3.4914 - rmse: 5.0881 - val_loss: 22.2396 - val_mae: 3.0930 - val_rmse: 4.7159\n",
      "Epoch 55/100\n",
      "12/12 [==============================] - 0s 4ms/step - loss: 25.5959 - mae: 3.4803 - rmse: 5.0592 - val_loss: 22.2094 - val_mae: 2.9899 - val_rmse: 4.7127\n",
      "Epoch 56/100\n",
      "12/12 [==============================] - 0s 3ms/step - loss: 25.3686 - mae: 3.4161 - rmse: 5.0367 - val_loss: 21.8900 - val_mae: 3.0414 - val_rmse: 4.6787\n",
      "Epoch 57/100\n",
      "12/12 [==============================] - 0s 4ms/step - loss: 25.2929 - mae: 3.5162 - rmse: 5.0292 - val_loss: 21.7827 - val_mae: 3.0449 - val_rmse: 4.6672\n",
      "Epoch 58/100\n",
      "12/12 [==============================] - 0s 3ms/step - loss: 25.2849 - mae: 3.3985 - rmse: 5.0284 - val_loss: 21.7587 - val_mae: 2.9604 - val_rmse: 4.6646\n",
      "Epoch 59/100\n",
      "12/12 [==============================] - 0s 4ms/step - loss: 25.0009 - mae: 3.4608 - rmse: 5.0001 - val_loss: 21.5187 - val_mae: 3.0040 - val_rmse: 4.6388\n",
      "Epoch 60/100\n",
      "12/12 [==============================] - 0s 4ms/step - loss: 24.6877 - mae: 3.4320 - rmse: 4.9687 - val_loss: 21.4251 - val_mae: 2.9630 - val_rmse: 4.6287\n",
      "Epoch 61/100\n",
      "12/12 [==============================] - 0s 3ms/step - loss: 24.6575 - mae: 3.4273 - rmse: 4.9656 - val_loss: 21.3535 - val_mae: 2.9547 - val_rmse: 4.6210\n",
      "Epoch 62/100\n",
      "12/12 [==============================] - 0s 4ms/step - loss: 24.6228 - mae: 3.3717 - rmse: 4.9621 - val_loss: 21.3488 - val_mae: 2.9265 - val_rmse: 4.6205\n",
      "Epoch 63/100\n",
      "12/12 [==============================] - 0s 4ms/step - loss: 24.4928 - mae: 3.3920 - rmse: 4.9490 - val_loss: 21.2111 - val_mae: 2.9361 - val_rmse: 4.6056\n",
      "Epoch 64/100\n",
      "12/12 [==============================] - 0s 4ms/step - loss: 24.2070 - mae: 3.3864 - rmse: 4.9201 - val_loss: 21.1286 - val_mae: 2.9674 - val_rmse: 4.5966\n",
      "Epoch 65/100\n",
      "12/12 [==============================] - 0s 4ms/step - loss: 24.1202 - mae: 3.3966 - rmse: 4.9112 - val_loss: 21.0937 - val_mae: 2.9134 - val_rmse: 4.5928\n",
      "Epoch 66/100\n",
      "12/12 [==============================] - 0s 4ms/step - loss: 24.0922 - mae: 3.3886 - rmse: 4.9084 - val_loss: 21.0256 - val_mae: 2.9245 - val_rmse: 4.5854\n",
      "Epoch 67/100\n",
      "12/12 [==============================] - 0s 4ms/step - loss: 24.2280 - mae: 3.3361 - rmse: 4.9222 - val_loss: 21.0547 - val_mae: 2.8918 - val_rmse: 4.5885\n",
      "Epoch 68/100\n",
      "12/12 [==============================] - 0s 6ms/step - loss: 23.9334 - mae: 3.4012 - rmse: 4.8922 - val_loss: 20.9149 - val_mae: 2.9685 - val_rmse: 4.5733\n",
      "Epoch 69/100\n",
      "12/12 [==============================] - 0s 4ms/step - loss: 24.4607 - mae: 3.3616 - rmse: 4.9458 - val_loss: 21.1686 - val_mae: 2.8785 - val_rmse: 4.6009\n",
      "Epoch 70/100\n",
      "12/12 [==============================] - 0s 4ms/step - loss: 23.9562 - mae: 3.4133 - rmse: 4.8945 - val_loss: 20.9835 - val_mae: 3.0393 - val_rmse: 4.5808\n",
      "Epoch 71/100\n",
      "12/12 [==============================] - 0s 4ms/step - loss: 23.4908 - mae: 3.3705 - rmse: 4.8467 - val_loss: 20.9484 - val_mae: 2.8645 - val_rmse: 4.5769\n",
      "Epoch 72/100\n",
      "12/12 [==============================] - 0s 4ms/step - loss: 23.7691 - mae: 3.2870 - rmse: 4.8754 - val_loss: 20.6732 - val_mae: 2.8875 - val_rmse: 4.5468\n",
      "Epoch 73/100\n",
      "12/12 [==============================] - 0s 3ms/step - loss: 23.5877 - mae: 3.3955 - rmse: 4.8567 - val_loss: 20.6403 - val_mae: 2.9407 - val_rmse: 4.5432\n",
      "Epoch 74/100\n",
      "12/12 [==============================] - 0s 4ms/step - loss: 23.5554 - mae: 3.3234 - rmse: 4.8534 - val_loss: 20.5677 - val_mae: 2.9018 - val_rmse: 4.5352\n",
      "Epoch 75/100\n",
      "12/12 [==============================] - 0s 4ms/step - loss: 23.5483 - mae: 3.3768 - rmse: 4.8527 - val_loss: 20.5665 - val_mae: 2.8736 - val_rmse: 4.5350\n",
      "Epoch 76/100\n",
      "12/12 [==============================] - 0s 3ms/step - loss: 23.5886 - mae: 3.3039 - rmse: 4.8568 - val_loss: 20.4972 - val_mae: 2.8900 - val_rmse: 4.5274\n",
      "Epoch 77/100\n",
      "12/12 [==============================] - 0s 4ms/step - loss: 23.1512 - mae: 3.3273 - rmse: 4.8116 - val_loss: 20.4619 - val_mae: 2.8910 - val_rmse: 4.5235\n",
      "Epoch 78/100\n",
      "12/12 [==============================] - 0s 4ms/step - loss: 23.0473 - mae: 3.2963 - rmse: 4.8008 - val_loss: 20.4568 - val_mae: 2.8611 - val_rmse: 4.5229\n",
      "Epoch 79/100\n",
      "12/12 [==============================] - 0s 4ms/step - loss: 22.9808 - mae: 3.2984 - rmse: 4.7938 - val_loss: 20.3798 - val_mae: 2.8723 - val_rmse: 4.5144\n",
      "Epoch 80/100\n",
      "12/12 [==============================] - 0s 4ms/step - loss: 22.9832 - mae: 3.2865 - rmse: 4.7941 - val_loss: 20.3563 - val_mae: 2.8842 - val_rmse: 4.5118\n",
      "Epoch 81/100\n",
      "12/12 [==============================] - 0s 4ms/step - loss: 22.9161 - mae: 3.3109 - rmse: 4.7871 - val_loss: 20.3271 - val_mae: 2.8856 - val_rmse: 4.5086\n",
      "Epoch 82/100\n",
      "12/12 [==============================] - 0s 4ms/step - loss: 22.9412 - mae: 3.2876 - rmse: 4.7897 - val_loss: 20.4555 - val_mae: 2.8351 - val_rmse: 4.5228\n",
      "Epoch 83/100\n",
      "12/12 [==============================] - 0s 4ms/step - loss: 22.9111 - mae: 3.2945 - rmse: 4.7866 - val_loss: 20.3349 - val_mae: 2.8580 - val_rmse: 4.5094\n",
      "Epoch 84/100\n",
      "12/12 [==============================] - 0s 4ms/step - loss: 23.0613 - mae: 3.3310 - rmse: 4.8022 - val_loss: 20.2703 - val_mae: 2.8614 - val_rmse: 4.5023\n",
      "Epoch 85/100\n",
      "12/12 [==============================] - 0s 4ms/step - loss: 22.7443 - mae: 3.2408 - rmse: 4.7691 - val_loss: 20.6728 - val_mae: 2.8274 - val_rmse: 4.5467\n",
      "Epoch 86/100\n",
      "12/12 [==============================] - 0s 4ms/step - loss: 22.7859 - mae: 3.2995 - rmse: 4.7735 - val_loss: 20.2083 - val_mae: 2.8952 - val_rmse: 4.4954\n",
      "Epoch 87/100\n",
      "12/12 [==============================] - 0s 3ms/step - loss: 22.5750 - mae: 3.2679 - rmse: 4.7513 - val_loss: 20.3684 - val_mae: 2.8233 - val_rmse: 4.5131\n",
      "Epoch 88/100\n",
      "12/12 [==============================] - 0s 4ms/step - loss: 22.5740 - mae: 3.2353 - rmse: 4.7512 - val_loss: 20.1931 - val_mae: 2.8410 - val_rmse: 4.4937\n",
      "Epoch 89/100\n",
      "12/12 [==============================] - 0s 4ms/step - loss: 22.7845 - mae: 3.3219 - rmse: 4.7733 - val_loss: 20.1565 - val_mae: 2.8480 - val_rmse: 4.4896\n",
      "Epoch 90/100\n",
      "12/12 [==============================] - 0s 4ms/step - loss: 22.4737 - mae: 3.2368 - rmse: 4.7406 - val_loss: 20.2409 - val_mae: 2.8261 - val_rmse: 4.4990\n",
      "Epoch 91/100\n",
      "12/12 [==============================] - 0s 4ms/step - loss: 22.5436 - mae: 3.2502 - rmse: 4.7480 - val_loss: 20.0907 - val_mae: 2.8841 - val_rmse: 4.4823\n",
      "Epoch 92/100\n",
      "12/12 [==============================] - 0s 4ms/step - loss: 22.4684 - mae: 3.2969 - rmse: 4.7401 - val_loss: 20.1288 - val_mae: 2.8475 - val_rmse: 4.4865\n",
      "Epoch 93/100\n",
      "12/12 [==============================] - 0s 4ms/step - loss: 22.3767 - mae: 3.2175 - rmse: 4.7304 - val_loss: 20.2392 - val_mae: 2.8289 - val_rmse: 4.4988\n",
      "Epoch 94/100\n",
      "12/12 [==============================] - 0s 4ms/step - loss: 22.3181 - mae: 3.2542 - rmse: 4.7242 - val_loss: 20.0996 - val_mae: 2.8440 - val_rmse: 4.4833\n",
      "Epoch 95/100\n",
      "12/12 [==============================] - 0s 4ms/step - loss: 22.3033 - mae: 3.2630 - rmse: 4.7226 - val_loss: 20.1453 - val_mae: 2.8272 - val_rmse: 4.4884\n",
      "Epoch 96/100\n",
      "12/12 [==============================] - 0s 4ms/step - loss: 22.3742 - mae: 3.2143 - rmse: 4.7301 - val_loss: 20.0815 - val_mae: 2.8382 - val_rmse: 4.4812\n",
      "Epoch 97/100\n",
      "12/12 [==============================] - 0s 4ms/step - loss: 22.4348 - mae: 3.3016 - rmse: 4.7365 - val_loss: 20.0293 - val_mae: 2.8567 - val_rmse: 4.4754\n"
     ]
    },
    {
     "name": "stdout",
     "output_type": "stream",
     "text": [
      "Epoch 98/100\n",
      "12/12 [==============================] - 0s 4ms/step - loss: 22.1735 - mae: 3.2292 - rmse: 4.7089 - val_loss: 20.1219 - val_mae: 2.8213 - val_rmse: 4.4857\n",
      "Epoch 99/100\n",
      "12/12 [==============================] - 0s 4ms/step - loss: 22.4513 - mae: 3.2739 - rmse: 4.7383 - val_loss: 20.0117 - val_mae: 2.8405 - val_rmse: 4.4734\n",
      "Epoch 100/100\n",
      "12/12 [==============================] - 0s 3ms/step - loss: 22.3702 - mae: 3.2144 - rmse: 4.7297 - val_loss: 20.0579 - val_mae: 2.8177 - val_rmse: 4.4786\n"
     ]
    }
   ],
   "source": [
    "# Fit your model\n",
    "\n",
    "history = reg_model3.fit(X_train, y_train,\n",
    "                        validation_data = (X_test, y_test),\n",
    "                        epochs = 100)\n"
   ]
  },
  {
   "cell_type": "code",
   "execution_count": 57,
   "metadata": {
    "ExecuteTime": {
     "end_time": "2023-01-31T20:04:36.001832Z",
     "start_time": "2023-01-31T20:04:35.547021Z"
    },
    "colab": {
     "base_uri": "https://localhost:8080/",
     "height": 809
    },
    "executionInfo": {
     "elapsed": 345,
     "status": "ok",
     "timestamp": 1669945320159,
     "user": {
      "displayName": "Josh Johnson",
      "userId": "08606005069848925988"
     },
     "user_tz": 480
    },
    "id": "4AAjL79MfJpw",
    "outputId": "9a26059a-dbaa-4022-e79d-8f531ed04c7b"
   },
   "outputs": [
    {
     "data": {
      "image/png": "[encoded data removed]",
      "text/plain": [
       "<Figure size 640x480 with 1 Axes>"
      ]
     },
     "metadata": {},
     "output_type": "display_data"
    },
    {
     "data": {
      "image/png": "[encoded data removed]",
      "text/plain": [
       "<Figure size 640x480 with 1 Axes>"
      ]
     },
     "metadata": {},
     "output_type": "display_data"
    },
    {
     "data": {
      "image/png": "[encoded data removed]",
      "text/plain": [
       "<Figure size 640x480 with 1 Axes>"
      ]
     },
     "metadata": {},
     "output_type": "display_data"
    }
   ],
   "source": [
    "# Apply the custom function to see how your model is doing\n",
    "plot_history(history)"
   ]
  },
  {
   "cell_type": "markdown",
   "metadata": {
    "id": "SxZ_khFvfJpw"
   },
   "source": [
    "## Evaluation\n"
   ]
  },
  {
   "cell_type": "code",
   "execution_count": 58,
   "metadata": {
    "ExecuteTime": {
     "end_time": "2023-01-31T20:04:36.193458Z",
     "start_time": "2023-01-31T20:04:36.002837Z"
    },
    "colab": {
     "base_uri": "https://localhost:8080/"
    },
    "executionInfo": {
     "elapsed": 5,
     "status": "ok",
     "timestamp": 1669945320159,
     "user": {
      "displayName": "Josh Johnson",
      "userId": "08606005069848925988"
     },
     "user_tz": 480
    },
    "id": "gCOdqxLtfJpx",
    "outputId": "6f9bb65b-5b77-44c9-c213-957b3c4b9f42"
   },
   "outputs": [
    {
     "name": "stdout",
     "output_type": "stream",
     "text": [
      "12/12 [==============================] - 0s 907us/step\n",
      "4/4 [==============================] - 0s 2ms/step\n"
     ]
    },
    {
     "data": {
      "text/html": [
       "<div>\n",
       "<style scoped>\n",
       "    .dataframe tbody tr th:only-of-type {\n",
       "        vertical-align: middle;\n",
       "    }\n",
       "\n",
       "    .dataframe tbody tr th {\n",
       "        vertical-align: top;\n",
       "    }\n",
       "\n",
       "    .dataframe thead th {\n",
       "        text-align: right;\n",
       "    }\n",
       "</style>\n",
       "<table border=\"1\" class=\"dataframe\">\n",
       "  <thead>\n",
       "    <tr style=\"text-align: right;\">\n",
       "      <th></th>\n",
       "      <th>MAE</th>\n",
       "      <th>RMSE</th>\n",
       "      <th>R2</th>\n",
       "    </tr>\n",
       "  </thead>\n",
       "  <tbody>\n",
       "    <tr>\n",
       "      <th>reg_model1 Train</th>\n",
       "      <td>3.941398</td>\n",
       "      <td>5.606805</td>\n",
       "      <td>0.645516</td>\n",
       "    </tr>\n",
       "    <tr>\n",
       "      <th>reg_model1 test</th>\n",
       "      <td>3.775498</td>\n",
       "      <td>5.566272</td>\n",
       "      <td>0.557552</td>\n",
       "    </tr>\n",
       "    <tr>\n",
       "      <th>reg_model2 Train</th>\n",
       "      <td>2.945042</td>\n",
       "      <td>4.275885</td>\n",
       "      <td>0.793834</td>\n",
       "    </tr>\n",
       "    <tr>\n",
       "      <th>reg_model2 test</th>\n",
       "      <td>2.727790</td>\n",
       "      <td>4.227755</td>\n",
       "      <td>0.744757</td>\n",
       "    </tr>\n",
       "    <tr>\n",
       "      <th>reg_model3 Train</th>\n",
       "      <td>3.211658</td>\n",
       "      <td>4.691137</td>\n",
       "      <td>0.751846</td>\n",
       "    </tr>\n",
       "    <tr>\n",
       "      <th>reg_model3 test</th>\n",
       "      <td>2.817708</td>\n",
       "      <td>4.478599</td>\n",
       "      <td>0.713570</td>\n",
       "    </tr>\n",
       "  </tbody>\n",
       "</table>\n",
       "</div>"
      ],
      "text/plain": [
       "                       MAE      RMSE        R2\n",
       "reg_model1 Train  3.941398  5.606805  0.645516\n",
       "reg_model1 test   3.775498  5.566272  0.557552\n",
       "reg_model2 Train  2.945042  4.275885  0.793834\n",
       "reg_model2 test   2.727790  4.227755  0.744757\n",
       "reg_model3 Train  3.211658  4.691137  0.751846\n",
       "reg_model3 test   2.817708  4.478599  0.713570"
      ]
     },
     "execution_count": 58,
     "metadata": {},
     "output_type": "execute_result"
    }
   ],
   "source": [
    "train_scores = eval_regression(reg_model3, \n",
    "                         X_train, \n",
    "                         y_train, \n",
    "                         name='reg_model3 Train')\n",
    "test_scores = eval_regression(reg_model3, \n",
    "                                       X_test, \n",
    "                                       y_test, \n",
    "                                       name='reg_model3 test')\n",
    "scores = pd.concat([scores, train_scores, test_scores])\n",
    "scores"
   ]
  }
 ],
 "metadata": {
  "colab": {
   "provenance": [
    {
     "file_id": "1AMkk4AkOwuh0L19EdXpLJHJaeZXCP6kQ",
     "timestamp": 1654554871276
    },
    {
     "file_id": "1HZQ_jeFRQsrlNGjvh_ru52Q-1DhIahua",
     "timestamp": 1636586978598
    }
   ]
  },
  "kernelspec": {
   "display_name": "Python 3 (ipykernel)",
   "language": "python",
   "name": "python3"
  },
  "language_info": {
   "codemirror_mode": {
    "name": "ipython",
    "version": 3
   },
   "file_extension": ".py",
   "mimetype": "text/x-python",
   "name": "python",
   "nbconvert_exporter": "python",
   "pygments_lexer": "ipython3",
   "version": "3.9.15"
  },
  "toc": {
   "base_numbering": 1,
   "nav_menu": {},
   "number_sections": false,
   "sideBar": true,
   "skip_h1_title": false,
   "title_cell": "Table of Contents",
   "title_sidebar": "Contents",
   "toc_cell": false,
   "toc_position": {},
   "toc_section_display": true,
   "toc_window_display": false
  }
 },
 "nbformat": 4,
 "nbformat_minor": 1
}
